{
 "cells": [
  {
   "cell_type": "markdown",
   "id": "7badcaf4-f6f8-492b-8744-3ca70e0d5973",
   "metadata": {},
   "source": [
    "### Step 1 load review data"
   ]
  },
  {
   "cell_type": "code",
   "execution_count": 2,
   "id": "fb21ec02-d735-4655-a553-5ccecea88100",
   "metadata": {},
   "outputs": [],
   "source": [
    "import json\n",
    "import pandas as pd\n",
    "\n",
    "# Step 1: Load the Pet_Supplies reviews file\n",
    "reviews_file = \"Pet_Supplies.jsonl\"\n",
    "reviews_list = []\n",
    "\n",
    "with open(reviews_file, 'r') as fp:\n",
    "    for line in fp:\n",
    "        data = json.loads(line.strip())\n",
    "        reviews_list.append({\n",
    "            'rating': data.get('rating'),\n",
    "            'text': data.get('text'),\n",
    "            'asin': data.get('asin'),\n",
    "            'timestamp': data.get('timestamp'),\n",
    "            'parent_asin': data.get('parent_asin')\n",
    "        })\n",
    "\n",
    "# Convert the reviews list into a DataFrame\n",
    "reviews_df = pd.DataFrame(reviews_list)\n",
    "\n"
   ]
  },
  {
   "cell_type": "markdown",
   "id": "9e58429e-f984-41b2-8179-b9e336f85cca",
   "metadata": {},
   "source": [
    "### Step 2 load Metadata"
   ]
  },
  {
   "cell_type": "code",
   "execution_count": 4,
   "id": "4f45d359-aa2e-43cc-8c7a-6a94b550c46c",
   "metadata": {},
   "outputs": [
    {
     "name": "stdout",
     "output_type": "stream",
     "text": [
      "Finished Dataframe\n"
     ]
    }
   ],
   "source": [
    "import json\n",
    "import pandas as pd\n",
    "# Step 2: Load the meta_Pet_Supplies file\n",
    "meta_file = \"meta_Pet_Supplies.jsonl\"\n",
    "meta_list = []\n",
    "\n",
    "with open(meta_file, 'r') as fp:\n",
    "    for line in fp:\n",
    "        data = json.loads(line.strip())\n",
    "        meta_list.append({\n",
    "            'parent_asin': data.get('parent_asin'),\n",
    "            'title': data.get('title'),\n",
    "            'main_category': data.get('main_category')\n",
    "        })\n",
    "\n",
    "# Convert the metadata list into a DataFrame\n",
    "meta_df = pd.DataFrame(meta_list)\n",
    "\n",
    "print(\"Finished Dataframe\")\n"
   ]
  },
  {
   "cell_type": "markdown",
   "id": "8acdef3c-b836-4f82-9375-aea5b88460ed",
   "metadata": {},
   "source": [
    "### Step 3 Merge 2 dataframes CSV"
   ]
  },
  {
   "cell_type": "code",
   "execution_count": 6,
   "id": "6d481d24-7a72-496d-88a7-f24354264eef",
   "metadata": {},
   "outputs": [],
   "source": [
    "# Step 3: Save the combined DataFrame as a CSV file\n",
    "combined_df = pd.merge(reviews_df, meta_df, on='parent_asin', how='inner')\n"
   ]
  },
  {
   "cell_type": "markdown",
   "id": "77730e84-7e8b-4cf2-a150-86eff96f6cc8",
   "metadata": {},
   "source": [
    "### Step 4 Preprocess Epoch time into dates"
   ]
  },
  {
   "cell_type": "code",
   "execution_count": 8,
   "id": "ef1868c7-f772-4045-b5d0-7505ae82cd80",
   "metadata": {},
   "outputs": [
    {
     "name": "stdout",
     "output_type": "stream",
     "text": [
      "   rating                                               text        date\n",
      "0     4.0  Tried to load photos, but none of my photos or...  02-04-2023\n",
      "1     2.0  I have a 14 pound schnoodle and the stairs are...  06-10-2020\n",
      "2     5.0  Dog uses the crap our of this and he loves bei...  04-15-2017\n",
      "3     5.0                                  My dog loves this  08-08-2021\n",
      "4     3.0  The stairs came with no carpet, skid pads, on ...  10-13-2019\n"
     ]
    }
   ],
   "source": [
    "import pandas as pd\n",
    "\n",
    "combined_df['timestamp'] = pd.to_datetime(combined_df['timestamp'], unit='ms')\n",
    "\n",
    "combined_df['date'] = combined_df['timestamp'].dt.strftime('%m-%d-%Y')\n",
    "\n",
    "print(combined_df[['rating', 'text', 'date']].head())"
   ]
  },
  {
   "cell_type": "markdown",
   "id": "fcd0aa01-f67e-41e5-a195-a650cf6a1a6f",
   "metadata": {},
   "source": [
    "### Step 5 Extract year 2022"
   ]
  },
  {
   "cell_type": "code",
   "execution_count": 10,
   "id": "977611b8-9625-4886-9792-556dbd39f533",
   "metadata": {},
   "outputs": [],
   "source": [
    "combined_df_2022 = combined_df[combined_df['timestamp'].dt.year == 2022]\n",
    "combined_df_2022.to_csv('year_2022.csv', index=False)\n"
   ]
  },
  {
   "cell_type": "code",
   "execution_count": null,
   "id": "805fe142-f681-47e9-90a8-111df34401fb",
   "metadata": {},
   "outputs": [],
   "source": []
  }
 ],
 "metadata": {
  "kernelspec": {
   "display_name": "Python 3 (ipykernel)",
   "language": "python",
   "name": "python3"
  },
  "language_info": {
   "codemirror_mode": {
    "name": "ipython",
    "version": 3
   },
   "file_extension": ".py",
   "mimetype": "text/x-python",
   "name": "python",
   "nbconvert_exporter": "python",
   "pygments_lexer": "ipython3",
   "version": "3.11.7"
  }
 },
 "nbformat": 4,
 "nbformat_minor": 5
}
