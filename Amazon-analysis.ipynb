{
 "cells": [
  {
   "cell_type": "markdown",
   "id": "8de44963-819c-4fb5-8520-4911af67c8e8",
   "metadata": {},
   "source": [
    "### Step 1 Load data into data frame"
   ]
  },
  {
   "cell_type": "code",
   "execution_count": 1,
   "id": "a119953e-7ff3-445b-a99e-a4237a22be84",
   "metadata": {},
   "outputs": [
    {
     "name": "stdout",
     "output_type": "stream",
     "text": [
      "Finished loading dataframe\n"
     ]
    }
   ],
   "source": [
    "import pandas as pd\n",
    "import tkinter as tk\n",
    "from tkinter import filedialog, messagebox\n",
    "\n",
    "\n",
    "file = tk.Tk()\n",
    "file.withdraw()\n",
    "\n",
    "file_path = filedialog.askopenfilename(\n",
    "    title=\"Select a CSV file to load\",\n",
    "    filetypes=[(\"CSV files\", \"*.csv\"), (\"All files\", \"*.*\")]\n",
    ")\n",
    "\n",
    "# Load the CSV file into a new DataFrame\n",
    "combined_df_2022 = pd.read_csv(file_path)\n",
    "file.destroy()\n",
    "print('Finished loading dataframe')"
   ]
  },
  {
   "cell_type": "code",
   "execution_count": 5,
   "id": "a837e18f-9da6-4e1b-a6a4-8c5407b41205",
   "metadata": {},
   "outputs": [],
   "source": [
    "### Step 2 Pick week before Holiday"
   ]
  },
  {
   "cell_type": "code",
   "execution_count": 3,
   "id": "f3d81c7b-ac36-488a-b814-d6741ec44d12",
   "metadata": {},
   "outputs": [
    {
     "name": "stdout",
     "output_type": "stream",
     "text": [
      "(299487, 8)\n"
     ]
    }
   ],
   "source": [
    "# Define the date range\n",
    "start_date = '01-01-2022'\n",
    "end_date = '12-31-2022'\n",
    "\n",
    "# Filter the DataFrame for the date range\n",
    "filtered_df_holiday = combined_df_2022[(combined_df_2022['date'] >= start_date) & (combined_df_2022['date'] <= end_date)]\n",
    "\n",
    "# Print the shape of the filtered DataFrame\n",
    "print(filtered_df_holiday.shape)\n"
   ]
  },
  {
   "cell_type": "markdown",
   "id": "77f0a9c6-95ba-4b7e-b776-96a4b5ec364e",
   "metadata": {},
   "source": [
    "### Step 3 Sort the data by dates"
   ]
  },
  {
   "cell_type": "code",
   "execution_count": 5,
   "id": "3ddaeb7e-5a1a-40a3-b7a0-6a4ee8e472fc",
   "metadata": {},
   "outputs": [],
   "source": [
    "sorted_df_2022 = filtered_df_holiday.sort_values(by='date', ascending=False)\n"
   ]
  },
  {
   "cell_type": "markdown",
   "id": "ddb008a9-4536-4592-82f7-4b63cc0a9a54",
   "metadata": {},
   "source": [
    "### Step 4 Check the rating distribution"
   ]
  },
  {
   "cell_type": "code",
   "execution_count": 7,
   "id": "21d92843-90aa-4b2d-aecc-a5abdc281d32",
   "metadata": {},
   "outputs": [
    {
     "data": {
      "text/plain": [
       "<Axes: title={'center': 'Rating reviews week of Chrismas 2022'}>"
      ]
     },
     "execution_count": 7,
     "metadata": {},
     "output_type": "execute_result"
    },
    {
     "data": {
      "image/png": "[encoded data removed]",
      "text/plain": [
       "<Figure size 640x480 with 1 Axes>"
      ]
     },
     "metadata": {},
     "output_type": "display_data"
    }
   ],
   "source": [
    "#Score Column evaluation\n",
    "sorted_df_2022['rating'].value_counts().sort_index().plot(kind='bar', title='Rating reviews week of Chrismas 2022')"
   ]
  },
  {
   "cell_type": "markdown",
   "id": "74bbfe1b-9f19-489c-8c0d-0c1d40986002",
   "metadata": {},
   "source": [
    "### Step 5 Load nltk dependencies"
   ]
  },
  {
   "cell_type": "code",
   "execution_count": 9,
   "id": "29227f3b-aec9-4161-b33c-907ba7fefd71",
   "metadata": {},
   "outputs": [
    {
     "name": "stderr",
     "output_type": "stream",
     "text": [
      "[nltk_data] Downloading package averaged_perceptron_tagger to\n",
      "[nltk_data]     C:\\Users\\savav\\AppData\\Roaming\\nltk_data...\n",
      "[nltk_data]   Package averaged_perceptron_tagger is already up-to-\n",
      "[nltk_data]       date!\n",
      "[nltk_data] Downloading package maxent_ne_chunker to\n",
      "[nltk_data]     C:\\Users\\savav\\AppData\\Roaming\\nltk_data...\n",
      "[nltk_data]   Package maxent_ne_chunker is already up-to-date!\n",
      "[nltk_data] Downloading package words to\n",
      "[nltk_data]     C:\\Users\\savav\\AppData\\Roaming\\nltk_data...\n",
      "[nltk_data]   Package words is already up-to-date!\n",
      "[nltk_data] Downloading package vader_lexicon to\n",
      "[nltk_data]     C:\\Users\\savav\\AppData\\Roaming\\nltk_data...\n",
      "[nltk_data]   Package vader_lexicon is already up-to-date!\n"
     ]
    },
    {
     "data": {
      "text/plain": [
       "True"
      ]
     },
     "execution_count": 9,
     "metadata": {},
     "output_type": "execute_result"
    }
   ],
   "source": [
    "#Load Dependencies\n",
    "import nltk\n",
    "from nltk import word_tokenize\n",
    "nltk.download('averaged_perceptron_tagger')\n",
    "nltk.download('maxent_ne_chunker')\n",
    "nltk.download('words')\n",
    "nltk.download('vader_lexicon')"
   ]
  },
  {
   "cell_type": "markdown",
   "id": "d4bacfb9-fa6b-4b91-890b-dd34098e602c",
   "metadata": {},
   "source": [
    "### Step 6 Vader Sentiment Analyis"
   ]
  },
  {
   "cell_type": "code",
   "execution_count": 11,
   "id": "c74f2924-2eed-4744-8fd6-53a0b7fac429",
   "metadata": {},
   "outputs": [],
   "source": [
    "from nltk.sentiment import SentimentIntensityAnalyzer\n",
    "from tqdm.notebook import tqdm\n",
    "\n",
    "sentiment_analyizer_object = SentimentIntensityAnalyzer()"
   ]
  },
  {
   "cell_type": "markdown",
   "id": "f5c6eb48-d9ea-49c9-b1d3-7b600e953b23",
   "metadata": {},
   "source": [
    "### Step 7 For loop to run sentiment analysis and save in a new res dictiona"
   ]
  },
  {
   "cell_type": "code",
   "execution_count": 13,
   "id": "23cda7f5-0652-4706-bdef-6b7f2519ac0a",
   "metadata": {},
   "outputs": [
    {
     "data": {
      "text/html": [
       "<div>\n",
       "<style scoped>\n",
       "    .dataframe tbody tr th:only-of-type {\n",
       "        vertical-align: middle;\n",
       "    }\n",
       "\n",
       "    .dataframe tbody tr th {\n",
       "        vertical-align: top;\n",
       "    }\n",
       "\n",
       "    .dataframe thead th {\n",
       "        text-align: right;\n",
       "    }\n",
       "</style>\n",
       "<table border=\"1\" class=\"dataframe\">\n",
       "  <thead>\n",
       "    <tr style=\"text-align: right;\">\n",
       "      <th></th>\n",
       "      <th>rating</th>\n",
       "      <th>text</th>\n",
       "      <th>asin</th>\n",
       "      <th>timestamp</th>\n",
       "      <th>parent_asin</th>\n",
       "      <th>title</th>\n",
       "      <th>main_category</th>\n",
       "      <th>date</th>\n",
       "    </tr>\n",
       "  </thead>\n",
       "  <tbody>\n",
       "    <tr>\n",
       "      <th>19729</th>\n",
       "      <td>5.0</td>\n",
       "      <td>Perfect for my cooler when we are camper. I'm ...</td>\n",
       "      <td>B0B9J6P1PQ</td>\n",
       "      <td>2022-12-31 20:03:13.772</td>\n",
       "      <td>B0B9J4TVR8</td>\n",
       "      <td>Cq acrylic 4 PACK Egg Holder for Refrigerator,...</td>\n",
       "      <td>Appliances</td>\n",
       "      <td>12-31-2022</td>\n",
       "    </tr>\n",
       "    <tr>\n",
       "      <th>24006</th>\n",
       "      <td>5.0</td>\n",
       "      <td>I live with other roommates, and we are all su...</td>\n",
       "      <td>B078MMXJPC</td>\n",
       "      <td>2022-12-31 08:16:55.357</td>\n",
       "      <td>B081K4Q6KQ</td>\n",
       "      <td>Cimkiz Dishwasher Magnet Clean Dirty Sign Shut...</td>\n",
       "      <td>Amazon Home</td>\n",
       "      <td>12-31-2022</td>\n",
       "    </tr>\n",
       "    <tr>\n",
       "      <th>244258</th>\n",
       "      <td>3.0</td>\n",
       "      <td>Not initially impressed with the quality or st...</td>\n",
       "      <td>B0BCFGDKZQ</td>\n",
       "      <td>2022-12-31 06:22:25.629</td>\n",
       "      <td>B0BCFGDKZQ</td>\n",
       "      <td>Raweao Large Capacity Egg Holder For Refrigera...</td>\n",
       "      <td>Tools &amp; Home Improvement</td>\n",
       "      <td>12-31-2022</td>\n",
       "    </tr>\n",
       "    <tr>\n",
       "      <th>132546</th>\n",
       "      <td>4.0</td>\n",
       "      <td>I can't tell what is. Not a good picture of it.</td>\n",
       "      <td>B07C1CCD2S</td>\n",
       "      <td>2022-12-31 20:11:02.525</td>\n",
       "      <td>B07C1C5Y5P</td>\n",
       "      <td>Lifetime Appliance Parts Upgraded Single Door ...</td>\n",
       "      <td>Tools &amp; Home Improvement</td>\n",
       "      <td>12-31-2022</td>\n",
       "    </tr>\n",
       "    <tr>\n",
       "      <th>253856</th>\n",
       "      <td>5.0</td>\n",
       "      <td>So far so good. Can be extremely difficult to ...</td>\n",
       "      <td>B07DMMB9R7</td>\n",
       "      <td>2022-12-31 19:21:40.948</td>\n",
       "      <td>B07DMMB9R7</td>\n",
       "      <td>#3 LG &amp; Kenmore Washer NACHI Best Premium Bear...</td>\n",
       "      <td>Industrial &amp; Scientific</td>\n",
       "      <td>12-31-2022</td>\n",
       "    </tr>\n",
       "    <tr>\n",
       "      <th>...</th>\n",
       "      <td>...</td>\n",
       "      <td>...</td>\n",
       "      <td>...</td>\n",
       "      <td>...</td>\n",
       "      <td>...</td>\n",
       "      <td>...</td>\n",
       "      <td>...</td>\n",
       "      <td>...</td>\n",
       "    </tr>\n",
       "    <tr>\n",
       "      <th>17257</th>\n",
       "      <td>5.0</td>\n",
       "      <td>Fácil de limpiar y muy resistente</td>\n",
       "      <td>B09G76121T</td>\n",
       "      <td>2022-01-01 16:03:15.930</td>\n",
       "      <td>B09G76121T</td>\n",
       "      <td>Skywin Stovetop Cover - Spill Guard Gas Range ...</td>\n",
       "      <td>Tools &amp; Home Improvement</td>\n",
       "      <td>01-01-2022</td>\n",
       "    </tr>\n",
       "    <tr>\n",
       "      <th>75057</th>\n",
       "      <td>5.0</td>\n",
       "      <td>Just what my dryer needed to keep on running!</td>\n",
       "      <td>B0826N5X4Y</td>\n",
       "      <td>2022-01-01 03:31:21.698</td>\n",
       "      <td>B0826N5X4Y</td>\n",
       "      <td>Upgraded Dryer Repair Kit dryer roller kit for...</td>\n",
       "      <td>Industrial &amp; Scientific</td>\n",
       "      <td>01-01-2022</td>\n",
       "    </tr>\n",
       "    <tr>\n",
       "      <th>216468</th>\n",
       "      <td>5.0</td>\n",
       "      <td>Worked flawlessly on my Kenmore fridge - insta...</td>\n",
       "      <td>B088LR8M5S</td>\n",
       "      <td>2022-01-01 20:15:24.885</td>\n",
       "      <td>B088LR8M5S</td>\n",
       "      <td>ForeverPRO 4317943 Whirlpool Icemaker Kit for ...</td>\n",
       "      <td>Tools &amp; Home Improvement</td>\n",
       "      <td>01-01-2022</td>\n",
       "    </tr>\n",
       "    <tr>\n",
       "      <th>74922</th>\n",
       "      <td>5.0</td>\n",
       "      <td>The filters were so easy to install and a grea...</td>\n",
       "      <td>B01CA411SI</td>\n",
       "      <td>2022-01-01 13:41:38.438</td>\n",
       "      <td>B01CA410KW</td>\n",
       "      <td>Waterdrop 5231JA2002A Refrigerator Water Filte...</td>\n",
       "      <td>Tools &amp; Home Improvement</td>\n",
       "      <td>01-01-2022</td>\n",
       "    </tr>\n",
       "    <tr>\n",
       "      <th>115485</th>\n",
       "      <td>5.0</td>\n",
       "      <td>Wasn't sure which component of my dryer was bu...</td>\n",
       "      <td>B07HKM1ZBY</td>\n",
       "      <td>2022-01-01 02:35:38.267</td>\n",
       "      <td>B07HKM1ZBY</td>\n",
       "      <td>3977393 Dryer Thermal Fuse 3392519 Thermal Fus...</td>\n",
       "      <td>Tools &amp; Home Improvement</td>\n",
       "      <td>01-01-2022</td>\n",
       "    </tr>\n",
       "  </tbody>\n",
       "</table>\n",
       "<p>299487 rows × 8 columns</p>\n",
       "</div>"
      ],
      "text/plain": [
       "        rating                                               text        asin  \\\n",
       "19729      5.0  Perfect for my cooler when we are camper. I'm ...  B0B9J6P1PQ   \n",
       "24006      5.0  I live with other roommates, and we are all su...  B078MMXJPC   \n",
       "244258     3.0  Not initially impressed with the quality or st...  B0BCFGDKZQ   \n",
       "132546     4.0    I can't tell what is. Not a good picture of it.  B07C1CCD2S   \n",
       "253856     5.0  So far so good. Can be extremely difficult to ...  B07DMMB9R7   \n",
       "...        ...                                                ...         ...   \n",
       "17257      5.0                  Fácil de limpiar y muy resistente  B09G76121T   \n",
       "75057      5.0      Just what my dryer needed to keep on running!  B0826N5X4Y   \n",
       "216468     5.0  Worked flawlessly on my Kenmore fridge - insta...  B088LR8M5S   \n",
       "74922      5.0  The filters were so easy to install and a grea...  B01CA411SI   \n",
       "115485     5.0  Wasn't sure which component of my dryer was bu...  B07HKM1ZBY   \n",
       "\n",
       "                      timestamp parent_asin  \\\n",
       "19729   2022-12-31 20:03:13.772  B0B9J4TVR8   \n",
       "24006   2022-12-31 08:16:55.357  B081K4Q6KQ   \n",
       "244258  2022-12-31 06:22:25.629  B0BCFGDKZQ   \n",
       "132546  2022-12-31 20:11:02.525  B07C1C5Y5P   \n",
       "253856  2022-12-31 19:21:40.948  B07DMMB9R7   \n",
       "...                         ...         ...   \n",
       "17257   2022-01-01 16:03:15.930  B09G76121T   \n",
       "75057   2022-01-01 03:31:21.698  B0826N5X4Y   \n",
       "216468  2022-01-01 20:15:24.885  B088LR8M5S   \n",
       "74922   2022-01-01 13:41:38.438  B01CA410KW   \n",
       "115485  2022-01-01 02:35:38.267  B07HKM1ZBY   \n",
       "\n",
       "                                                    title  \\\n",
       "19729   Cq acrylic 4 PACK Egg Holder for Refrigerator,...   \n",
       "24006   Cimkiz Dishwasher Magnet Clean Dirty Sign Shut...   \n",
       "244258  Raweao Large Capacity Egg Holder For Refrigera...   \n",
       "132546  Lifetime Appliance Parts Upgraded Single Door ...   \n",
       "253856  #3 LG & Kenmore Washer NACHI Best Premium Bear...   \n",
       "...                                                   ...   \n",
       "17257   Skywin Stovetop Cover - Spill Guard Gas Range ...   \n",
       "75057   Upgraded Dryer Repair Kit dryer roller kit for...   \n",
       "216468  ForeverPRO 4317943 Whirlpool Icemaker Kit for ...   \n",
       "74922   Waterdrop 5231JA2002A Refrigerator Water Filte...   \n",
       "115485  3977393 Dryer Thermal Fuse 3392519 Thermal Fus...   \n",
       "\n",
       "                   main_category        date  \n",
       "19729                 Appliances  12-31-2022  \n",
       "24006                Amazon Home  12-31-2022  \n",
       "244258  Tools & Home Improvement  12-31-2022  \n",
       "132546  Tools & Home Improvement  12-31-2022  \n",
       "253856   Industrial & Scientific  12-31-2022  \n",
       "...                          ...         ...  \n",
       "17257   Tools & Home Improvement  01-01-2022  \n",
       "75057    Industrial & Scientific  01-01-2022  \n",
       "216468  Tools & Home Improvement  01-01-2022  \n",
       "74922   Tools & Home Improvement  01-01-2022  \n",
       "115485  Tools & Home Improvement  01-01-2022  \n",
       "\n",
       "[299487 rows x 8 columns]"
      ]
     },
     "execution_count": 13,
     "metadata": {},
     "output_type": "execute_result"
    }
   ],
   "source": [
    "sorted_df_2022"
   ]
  },
  {
   "cell_type": "markdown",
   "id": "fc88f8f2-59f2-4026-a3ed-3736b74dc195",
   "metadata": {},
   "source": [
    "### Step 8 For loop to run sentiment analysis and save in a new res dictionary"
   ]
  },
  {
   "cell_type": "code",
   "execution_count": 15,
   "id": "ec2a4343-e8eb-427c-8457-3d226bfe8cce",
   "metadata": {},
   "outputs": [
    {
     "data": {
      "application/vnd.jupyter.widget-view+json": {
       "model_id": "082409ed4f574a59a422961eaf661bf8",
       "version_major": 2,
       "version_minor": 0
      },
      "text/plain": [
       "  0%|          | 0/299487 [00:00<?, ?it/s]"
      ]
     },
     "metadata": {},
     "output_type": "display_data"
    }
   ],
   "source": [
    "### Run the polarity score on the entire dataset\n",
    "\n",
    "sorted_df_2022['text'] = sorted_df_2022['text'].astype(str)\n",
    "\n",
    "res = {}\n",
    "for i, row in tqdm(sorted_df_2022.iterrows(), total=len(sorted_df_2022)):\n",
    "    text = row['text']\n",
    "    #print(text)\n",
    "    res[i] = sentiment_analyizer_object.polarity_scores(text)"
   ]
  },
  {
   "cell_type": "markdown",
   "id": "ae61966f-aede-462a-9958-8fbeccd7391e",
   "metadata": {},
   "source": [
    "### Step 9 Save dictionary into a dataframe and print it out"
   ]
  },
  {
   "cell_type": "code",
   "execution_count": 17,
   "id": "6974f7c1-880b-4c6f-9782-968cd9b9b408",
   "metadata": {},
   "outputs": [
    {
     "data": {
      "text/html": [
       "<div>\n",
       "<style scoped>\n",
       "    .dataframe tbody tr th:only-of-type {\n",
       "        vertical-align: middle;\n",
       "    }\n",
       "\n",
       "    .dataframe tbody tr th {\n",
       "        vertical-align: top;\n",
       "    }\n",
       "\n",
       "    .dataframe thead th {\n",
       "        text-align: right;\n",
       "    }\n",
       "</style>\n",
       "<table border=\"1\" class=\"dataframe\">\n",
       "  <thead>\n",
       "    <tr style=\"text-align: right;\">\n",
       "      <th></th>\n",
       "      <th>neg</th>\n",
       "      <th>neu</th>\n",
       "      <th>pos</th>\n",
       "      <th>compound</th>\n",
       "    </tr>\n",
       "  </thead>\n",
       "  <tbody>\n",
       "    <tr>\n",
       "      <th>19729</th>\n",
       "      <td>0.252</td>\n",
       "      <td>0.571</td>\n",
       "      <td>0.176</td>\n",
       "      <td>-0.1531</td>\n",
       "    </tr>\n",
       "    <tr>\n",
       "      <th>24006</th>\n",
       "      <td>0.000</td>\n",
       "      <td>0.638</td>\n",
       "      <td>0.362</td>\n",
       "      <td>0.9593</td>\n",
       "    </tr>\n",
       "    <tr>\n",
       "      <th>244258</th>\n",
       "      <td>0.073</td>\n",
       "      <td>0.852</td>\n",
       "      <td>0.075</td>\n",
       "      <td>0.2686</td>\n",
       "    </tr>\n",
       "    <tr>\n",
       "      <th>132546</th>\n",
       "      <td>0.231</td>\n",
       "      <td>0.769</td>\n",
       "      <td>0.000</td>\n",
       "      <td>-0.3412</td>\n",
       "    </tr>\n",
       "    <tr>\n",
       "      <th>253856</th>\n",
       "      <td>0.053</td>\n",
       "      <td>0.864</td>\n",
       "      <td>0.083</td>\n",
       "      <td>0.2837</td>\n",
       "    </tr>\n",
       "    <tr>\n",
       "      <th>...</th>\n",
       "      <td>...</td>\n",
       "      <td>...</td>\n",
       "      <td>...</td>\n",
       "      <td>...</td>\n",
       "    </tr>\n",
       "    <tr>\n",
       "      <th>17257</th>\n",
       "      <td>0.000</td>\n",
       "      <td>1.000</td>\n",
       "      <td>0.000</td>\n",
       "      <td>0.0000</td>\n",
       "    </tr>\n",
       "    <tr>\n",
       "      <th>75057</th>\n",
       "      <td>0.000</td>\n",
       "      <td>1.000</td>\n",
       "      <td>0.000</td>\n",
       "      <td>0.0000</td>\n",
       "    </tr>\n",
       "    <tr>\n",
       "      <th>216468</th>\n",
       "      <td>0.000</td>\n",
       "      <td>0.723</td>\n",
       "      <td>0.277</td>\n",
       "      <td>0.6114</td>\n",
       "    </tr>\n",
       "    <tr>\n",
       "      <th>74922</th>\n",
       "      <td>0.000</td>\n",
       "      <td>0.505</td>\n",
       "      <td>0.495</td>\n",
       "      <td>0.8334</td>\n",
       "    </tr>\n",
       "    <tr>\n",
       "      <th>115485</th>\n",
       "      <td>0.053</td>\n",
       "      <td>0.831</td>\n",
       "      <td>0.117</td>\n",
       "      <td>0.5269</td>\n",
       "    </tr>\n",
       "  </tbody>\n",
       "</table>\n",
       "<p>299487 rows × 4 columns</p>\n",
       "</div>"
      ],
      "text/plain": [
       "          neg    neu    pos  compound\n",
       "19729   0.252  0.571  0.176   -0.1531\n",
       "24006   0.000  0.638  0.362    0.9593\n",
       "244258  0.073  0.852  0.075    0.2686\n",
       "132546  0.231  0.769  0.000   -0.3412\n",
       "253856  0.053  0.864  0.083    0.2837\n",
       "...       ...    ...    ...       ...\n",
       "17257   0.000  1.000  0.000    0.0000\n",
       "75057   0.000  1.000  0.000    0.0000\n",
       "216468  0.000  0.723  0.277    0.6114\n",
       "74922   0.000  0.505  0.495    0.8334\n",
       "115485  0.053  0.831  0.117    0.5269\n",
       "\n",
       "[299487 rows x 4 columns]"
      ]
     },
     "execution_count": 17,
     "metadata": {},
     "output_type": "execute_result"
    }
   ],
   "source": [
    "vaders_christmas_2022 = pd.DataFrame(res).T\n",
    "vaders_christmas_2022"
   ]
  },
  {
   "cell_type": "markdown",
   "id": "508eebfe-1eb3-40e9-ab90-7b50c443b83f",
   "metadata": {},
   "source": [
    "### Step 10 Merge the vader dataset with Neg/Neu/Pos compound fields with the original 2022 sorted data set"
   ]
  },
  {
   "cell_type": "code",
   "execution_count": 19,
   "id": "fa6b3eef-becc-4158-bfaa-6cad73fcd2d5",
   "metadata": {},
   "outputs": [],
   "source": [
    "vaders_christmas_2022 = pd.DataFrame(res).T\n",
    "merged_christmas_2022 = pd.merge(vaders_christmas_2022, sorted_df_2022, left_index=True, right_index=True)"
   ]
  },
  {
   "cell_type": "code",
   "execution_count": 21,
   "id": "2b463168-5ea8-476d-97f7-39eb71f4a4a4",
   "metadata": {},
   "outputs": [
    {
     "data": {
      "text/html": [
       "<div>\n",
       "<style scoped>\n",
       "    .dataframe tbody tr th:only-of-type {\n",
       "        vertical-align: middle;\n",
       "    }\n",
       "\n",
       "    .dataframe tbody tr th {\n",
       "        vertical-align: top;\n",
       "    }\n",
       "\n",
       "    .dataframe thead th {\n",
       "        text-align: right;\n",
       "    }\n",
       "</style>\n",
       "<table border=\"1\" class=\"dataframe\">\n",
       "  <thead>\n",
       "    <tr style=\"text-align: right;\">\n",
       "      <th></th>\n",
       "      <th>neg</th>\n",
       "      <th>neu</th>\n",
       "      <th>pos</th>\n",
       "      <th>compound</th>\n",
       "      <th>rating</th>\n",
       "      <th>text</th>\n",
       "      <th>asin</th>\n",
       "      <th>timestamp</th>\n",
       "      <th>parent_asin</th>\n",
       "      <th>title</th>\n",
       "      <th>main_category</th>\n",
       "      <th>date</th>\n",
       "    </tr>\n",
       "  </thead>\n",
       "  <tbody>\n",
       "    <tr>\n",
       "      <th>19729</th>\n",
       "      <td>0.252</td>\n",
       "      <td>0.571</td>\n",
       "      <td>0.176</td>\n",
       "      <td>-0.1531</td>\n",
       "      <td>5.0</td>\n",
       "      <td>Perfect for my cooler when we are camper. I'm ...</td>\n",
       "      <td>B0B9J6P1PQ</td>\n",
       "      <td>2022-12-31 20:03:13.772</td>\n",
       "      <td>B0B9J4TVR8</td>\n",
       "      <td>Cq acrylic 4 PACK Egg Holder for Refrigerator,...</td>\n",
       "      <td>Appliances</td>\n",
       "      <td>12-31-2022</td>\n",
       "    </tr>\n",
       "    <tr>\n",
       "      <th>24006</th>\n",
       "      <td>0.000</td>\n",
       "      <td>0.638</td>\n",
       "      <td>0.362</td>\n",
       "      <td>0.9593</td>\n",
       "      <td>5.0</td>\n",
       "      <td>I live with other roommates, and we are all su...</td>\n",
       "      <td>B078MMXJPC</td>\n",
       "      <td>2022-12-31 08:16:55.357</td>\n",
       "      <td>B081K4Q6KQ</td>\n",
       "      <td>Cimkiz Dishwasher Magnet Clean Dirty Sign Shut...</td>\n",
       "      <td>Amazon Home</td>\n",
       "      <td>12-31-2022</td>\n",
       "    </tr>\n",
       "    <tr>\n",
       "      <th>244258</th>\n",
       "      <td>0.073</td>\n",
       "      <td>0.852</td>\n",
       "      <td>0.075</td>\n",
       "      <td>0.2686</td>\n",
       "      <td>3.0</td>\n",
       "      <td>Not initially impressed with the quality or st...</td>\n",
       "      <td>B0BCFGDKZQ</td>\n",
       "      <td>2022-12-31 06:22:25.629</td>\n",
       "      <td>B0BCFGDKZQ</td>\n",
       "      <td>Raweao Large Capacity Egg Holder For Refrigera...</td>\n",
       "      <td>Tools &amp; Home Improvement</td>\n",
       "      <td>12-31-2022</td>\n",
       "    </tr>\n",
       "    <tr>\n",
       "      <th>132546</th>\n",
       "      <td>0.231</td>\n",
       "      <td>0.769</td>\n",
       "      <td>0.000</td>\n",
       "      <td>-0.3412</td>\n",
       "      <td>4.0</td>\n",
       "      <td>I can't tell what is. Not a good picture of it.</td>\n",
       "      <td>B07C1CCD2S</td>\n",
       "      <td>2022-12-31 20:11:02.525</td>\n",
       "      <td>B07C1C5Y5P</td>\n",
       "      <td>Lifetime Appliance Parts Upgraded Single Door ...</td>\n",
       "      <td>Tools &amp; Home Improvement</td>\n",
       "      <td>12-31-2022</td>\n",
       "    </tr>\n",
       "    <tr>\n",
       "      <th>253856</th>\n",
       "      <td>0.053</td>\n",
       "      <td>0.864</td>\n",
       "      <td>0.083</td>\n",
       "      <td>0.2837</td>\n",
       "      <td>5.0</td>\n",
       "      <td>So far so good. Can be extremely difficult to ...</td>\n",
       "      <td>B07DMMB9R7</td>\n",
       "      <td>2022-12-31 19:21:40.948</td>\n",
       "      <td>B07DMMB9R7</td>\n",
       "      <td>#3 LG &amp; Kenmore Washer NACHI Best Premium Bear...</td>\n",
       "      <td>Industrial &amp; Scientific</td>\n",
       "      <td>12-31-2022</td>\n",
       "    </tr>\n",
       "    <tr>\n",
       "      <th>...</th>\n",
       "      <td>...</td>\n",
       "      <td>...</td>\n",
       "      <td>...</td>\n",
       "      <td>...</td>\n",
       "      <td>...</td>\n",
       "      <td>...</td>\n",
       "      <td>...</td>\n",
       "      <td>...</td>\n",
       "      <td>...</td>\n",
       "      <td>...</td>\n",
       "      <td>...</td>\n",
       "      <td>...</td>\n",
       "    </tr>\n",
       "    <tr>\n",
       "      <th>17257</th>\n",
       "      <td>0.000</td>\n",
       "      <td>1.000</td>\n",
       "      <td>0.000</td>\n",
       "      <td>0.0000</td>\n",
       "      <td>5.0</td>\n",
       "      <td>Fácil de limpiar y muy resistente</td>\n",
       "      <td>B09G76121T</td>\n",
       "      <td>2022-01-01 16:03:15.930</td>\n",
       "      <td>B09G76121T</td>\n",
       "      <td>Skywin Stovetop Cover - Spill Guard Gas Range ...</td>\n",
       "      <td>Tools &amp; Home Improvement</td>\n",
       "      <td>01-01-2022</td>\n",
       "    </tr>\n",
       "    <tr>\n",
       "      <th>75057</th>\n",
       "      <td>0.000</td>\n",
       "      <td>1.000</td>\n",
       "      <td>0.000</td>\n",
       "      <td>0.0000</td>\n",
       "      <td>5.0</td>\n",
       "      <td>Just what my dryer needed to keep on running!</td>\n",
       "      <td>B0826N5X4Y</td>\n",
       "      <td>2022-01-01 03:31:21.698</td>\n",
       "      <td>B0826N5X4Y</td>\n",
       "      <td>Upgraded Dryer Repair Kit dryer roller kit for...</td>\n",
       "      <td>Industrial &amp; Scientific</td>\n",
       "      <td>01-01-2022</td>\n",
       "    </tr>\n",
       "    <tr>\n",
       "      <th>216468</th>\n",
       "      <td>0.000</td>\n",
       "      <td>0.723</td>\n",
       "      <td>0.277</td>\n",
       "      <td>0.6114</td>\n",
       "      <td>5.0</td>\n",
       "      <td>Worked flawlessly on my Kenmore fridge - insta...</td>\n",
       "      <td>B088LR8M5S</td>\n",
       "      <td>2022-01-01 20:15:24.885</td>\n",
       "      <td>B088LR8M5S</td>\n",
       "      <td>ForeverPRO 4317943 Whirlpool Icemaker Kit for ...</td>\n",
       "      <td>Tools &amp; Home Improvement</td>\n",
       "      <td>01-01-2022</td>\n",
       "    </tr>\n",
       "    <tr>\n",
       "      <th>74922</th>\n",
       "      <td>0.000</td>\n",
       "      <td>0.505</td>\n",
       "      <td>0.495</td>\n",
       "      <td>0.8334</td>\n",
       "      <td>5.0</td>\n",
       "      <td>The filters were so easy to install and a grea...</td>\n",
       "      <td>B01CA411SI</td>\n",
       "      <td>2022-01-01 13:41:38.438</td>\n",
       "      <td>B01CA410KW</td>\n",
       "      <td>Waterdrop 5231JA2002A Refrigerator Water Filte...</td>\n",
       "      <td>Tools &amp; Home Improvement</td>\n",
       "      <td>01-01-2022</td>\n",
       "    </tr>\n",
       "    <tr>\n",
       "      <th>115485</th>\n",
       "      <td>0.053</td>\n",
       "      <td>0.831</td>\n",
       "      <td>0.117</td>\n",
       "      <td>0.5269</td>\n",
       "      <td>5.0</td>\n",
       "      <td>Wasn't sure which component of my dryer was bu...</td>\n",
       "      <td>B07HKM1ZBY</td>\n",
       "      <td>2022-01-01 02:35:38.267</td>\n",
       "      <td>B07HKM1ZBY</td>\n",
       "      <td>3977393 Dryer Thermal Fuse 3392519 Thermal Fus...</td>\n",
       "      <td>Tools &amp; Home Improvement</td>\n",
       "      <td>01-01-2022</td>\n",
       "    </tr>\n",
       "  </tbody>\n",
       "</table>\n",
       "<p>299487 rows × 12 columns</p>\n",
       "</div>"
      ],
      "text/plain": [
       "          neg    neu    pos  compound  rating  \\\n",
       "19729   0.252  0.571  0.176   -0.1531     5.0   \n",
       "24006   0.000  0.638  0.362    0.9593     5.0   \n",
       "244258  0.073  0.852  0.075    0.2686     3.0   \n",
       "132546  0.231  0.769  0.000   -0.3412     4.0   \n",
       "253856  0.053  0.864  0.083    0.2837     5.0   \n",
       "...       ...    ...    ...       ...     ...   \n",
       "17257   0.000  1.000  0.000    0.0000     5.0   \n",
       "75057   0.000  1.000  0.000    0.0000     5.0   \n",
       "216468  0.000  0.723  0.277    0.6114     5.0   \n",
       "74922   0.000  0.505  0.495    0.8334     5.0   \n",
       "115485  0.053  0.831  0.117    0.5269     5.0   \n",
       "\n",
       "                                                     text        asin  \\\n",
       "19729   Perfect for my cooler when we are camper. I'm ...  B0B9J6P1PQ   \n",
       "24006   I live with other roommates, and we are all su...  B078MMXJPC   \n",
       "244258  Not initially impressed with the quality or st...  B0BCFGDKZQ   \n",
       "132546    I can't tell what is. Not a good picture of it.  B07C1CCD2S   \n",
       "253856  So far so good. Can be extremely difficult to ...  B07DMMB9R7   \n",
       "...                                                   ...         ...   \n",
       "17257                   Fácil de limpiar y muy resistente  B09G76121T   \n",
       "75057       Just what my dryer needed to keep on running!  B0826N5X4Y   \n",
       "216468  Worked flawlessly on my Kenmore fridge - insta...  B088LR8M5S   \n",
       "74922   The filters were so easy to install and a grea...  B01CA411SI   \n",
       "115485  Wasn't sure which component of my dryer was bu...  B07HKM1ZBY   \n",
       "\n",
       "                      timestamp parent_asin  \\\n",
       "19729   2022-12-31 20:03:13.772  B0B9J4TVR8   \n",
       "24006   2022-12-31 08:16:55.357  B081K4Q6KQ   \n",
       "244258  2022-12-31 06:22:25.629  B0BCFGDKZQ   \n",
       "132546  2022-12-31 20:11:02.525  B07C1C5Y5P   \n",
       "253856  2022-12-31 19:21:40.948  B07DMMB9R7   \n",
       "...                         ...         ...   \n",
       "17257   2022-01-01 16:03:15.930  B09G76121T   \n",
       "75057   2022-01-01 03:31:21.698  B0826N5X4Y   \n",
       "216468  2022-01-01 20:15:24.885  B088LR8M5S   \n",
       "74922   2022-01-01 13:41:38.438  B01CA410KW   \n",
       "115485  2022-01-01 02:35:38.267  B07HKM1ZBY   \n",
       "\n",
       "                                                    title  \\\n",
       "19729   Cq acrylic 4 PACK Egg Holder for Refrigerator,...   \n",
       "24006   Cimkiz Dishwasher Magnet Clean Dirty Sign Shut...   \n",
       "244258  Raweao Large Capacity Egg Holder For Refrigera...   \n",
       "132546  Lifetime Appliance Parts Upgraded Single Door ...   \n",
       "253856  #3 LG & Kenmore Washer NACHI Best Premium Bear...   \n",
       "...                                                   ...   \n",
       "17257   Skywin Stovetop Cover - Spill Guard Gas Range ...   \n",
       "75057   Upgraded Dryer Repair Kit dryer roller kit for...   \n",
       "216468  ForeverPRO 4317943 Whirlpool Icemaker Kit for ...   \n",
       "74922   Waterdrop 5231JA2002A Refrigerator Water Filte...   \n",
       "115485  3977393 Dryer Thermal Fuse 3392519 Thermal Fus...   \n",
       "\n",
       "                   main_category        date  \n",
       "19729                 Appliances  12-31-2022  \n",
       "24006                Amazon Home  12-31-2022  \n",
       "244258  Tools & Home Improvement  12-31-2022  \n",
       "132546  Tools & Home Improvement  12-31-2022  \n",
       "253856   Industrial & Scientific  12-31-2022  \n",
       "...                          ...         ...  \n",
       "17257   Tools & Home Improvement  01-01-2022  \n",
       "75057    Industrial & Scientific  01-01-2022  \n",
       "216468  Tools & Home Improvement  01-01-2022  \n",
       "74922   Tools & Home Improvement  01-01-2022  \n",
       "115485  Tools & Home Improvement  01-01-2022  \n",
       "\n",
       "[299487 rows x 12 columns]"
      ]
     },
     "execution_count": 21,
     "metadata": {},
     "output_type": "execute_result"
    }
   ],
   "source": [
    "merged_christmas_2022"
   ]
  },
  {
   "cell_type": "markdown",
   "id": "e3128a5e-e11c-40f3-b128-dc2411915b0b",
   "metadata": {},
   "source": [
    "### Step 11 Plot vader compound score vs the rating"
   ]
  },
  {
   "cell_type": "code",
   "execution_count": 23,
   "id": "ecef3ea2-ac3e-47b2-a26d-604383f9de03",
   "metadata": {},
   "outputs": [
    {
     "data": {
      "image/png": "[encoded data removed]",
      "text/plain": [
       "<Figure size 640x480 with 1 Axes>"
      ]
     },
     "metadata": {},
     "output_type": "display_data"
    }
   ],
   "source": [
    "import seaborn as sns\n",
    "import matplotlib.pyplot as plt\n",
    "ax = sns.barplot(data=merged_christmas_2022, x='rating', y='compound')\n",
    "ax.set_title('Compound score by Amazon star Review')\n",
    "plt.show()"
   ]
  },
  {
   "cell_type": "code",
   "execution_count": 38,
   "id": "af187fe4-e1b3-4d3d-b53c-242cc4999ad0",
   "metadata": {},
   "outputs": [],
   "source": [
    "### Step 12 Compare vader score with positive neutral or negative scores\n"
   ]
  },
  {
   "cell_type": "code",
   "execution_count": 25,
   "id": "9569887e-1345-4dd0-a04a-5882fef6edce",
   "metadata": {},
   "outputs": [
    {
     "data": {
      "image/png": "[encoded data removed]",
      "text/plain": [
       "<Figure size 1500x500 with 3 Axes>"
      ]
     },
     "metadata": {},
     "output_type": "display_data"
    }
   ],
   "source": [
    "fig, axs = plt.subplots(1, 3, figsize=(15, 5))\n",
    "sns.barplot(data=merged_christmas_2022, x='rating', y='pos', ax =axs[0])\n",
    "sns.barplot(data=merged_christmas_2022, x='rating', y='neu', ax =axs[1])\n",
    "sns.barplot(data=merged_christmas_2022, x='rating', y='neg', ax =axs[2])\n",
    "axs[0].set_title('Positive')\n",
    "axs[1].set_title('Neutral')\n",
    "axs[2].set_title('Negative')\n",
    "plt.tight_layout()\n",
    "plt.show()\n",
    "\n"
   ]
  },
  {
   "cell_type": "code",
   "execution_count": 27,
   "id": "867c0523-9456-4c96-a880-3a428ee345bc",
   "metadata": {},
   "outputs": [
    {
     "data": {
      "image/png": "[encoded data removed]",
      "text/plain": [
       "<Figure size 1500x500 with 3 Axes>"
      ]
     },
     "metadata": {},
     "output_type": "display_data"
    }
   ],
   "source": [
    "fig, axs = plt.subplots(1, 3, figsize=(15, 5))\n",
    "sns.barplot(data=merged_christmas_2022, x='rating', y='pos', ax =axs[0])\n",
    "sns.barplot(data=merged_christmas_2022, x='rating', y='neu', ax =axs[1])\n",
    "sns.barplot(data=merged_christmas_2022, x='rating', y='neg', ax =axs[2])\n",
    "axs[0].set_title('Positive')\n",
    "axs[1].set_title('Neutral')\n",
    "axs[2].set_title('Negative')\n",
    "plt.tight_layout()\n",
    "plt.show()\n",
    "\n"
   ]
  },
  {
   "cell_type": "code",
   "execution_count": null,
   "id": "fb5cf55e-eaae-4170-8f0f-73ac4f8e862c",
   "metadata": {},
   "outputs": [],
   "source": []
  }
 ],
 "metadata": {
  "kernelspec": {
   "display_name": "Python 3 (ipykernel)",
   "language": "python",
   "name": "python3"
  },
  "language_info": {
   "codemirror_mode": {
    "name": "ipython",
    "version": 3
   },
   "file_extension": ".py",
   "mimetype": "text/x-python",
   "name": "python",
   "nbconvert_exporter": "python",
   "pygments_lexer": "ipython3",
   "version": "3.11.7"
  }
 },
 "nbformat": 4,
 "nbformat_minor": 5
}
