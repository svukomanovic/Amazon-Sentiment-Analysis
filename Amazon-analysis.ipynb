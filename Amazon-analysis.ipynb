{
 "cells": [
  {
   "cell_type": "markdown",
   "id": "8de44963-819c-4fb5-8520-4911af67c8e8",
   "metadata": {},
   "source": [
    "### Step 1 Load data into data frame"
   ]
  },
  {
   "cell_type": "code",
   "execution_count": 1,
   "id": "a119953e-7ff3-445b-a99e-a4237a22be84",
   "metadata": {},
   "outputs": [],
   "source": [
    "import pandas as pd\n",
    "\n",
    "# Load the CSV file into a new DataFrame\n",
    "combined_df_2022 = pd.read_csv('toys_and_games_year_2022.csv')"
   ]
  },
  {
   "cell_type": "code",
   "execution_count": null,
   "id": "a837e18f-9da6-4e1b-a6a4-8c5407b41205",
   "metadata": {},
   "outputs": [],
   "source": [
    "### Step 2 Pick week before Holiday"
   ]
  },
  {
   "cell_type": "code",
   "execution_count": 3,
   "id": "f3d81c7b-ac36-488a-b814-d6741ec44d12",
   "metadata": {},
   "outputs": [
    {
     "name": "stdout",
     "output_type": "stream",
     "text": [
      "(72435, 8)\n"
     ]
    }
   ],
   "source": [
    "# Define the date range\n",
    "start_date = '12-17-2022'\n",
    "end_date = '12-25-2022'\n",
    "\n",
    "# Filter the DataFrame for the date range\n",
    "filtered_df_holiday = combined_df_2022[(combined_df_2022['date'] >= start_date) & (combined_df_2022['date'] <= end_date)]\n",
    "\n",
    "# Print the shape of the filtered DataFrame\n",
    "print(filtered_df_holiday.shape)\n"
   ]
  },
  {
   "cell_type": "markdown",
   "id": "77f0a9c6-95ba-4b7e-b776-96a4b5ec364e",
   "metadata": {},
   "source": [
    "### Step 3 Sort the data by dates"
   ]
  },
  {
   "cell_type": "code",
   "execution_count": 7,
   "id": "3ddaeb7e-5a1a-40a3-b7a0-6a4ee8e472fc",
   "metadata": {},
   "outputs": [],
   "source": [
    "sorted_df_2022 = filtered_df_holiday.sort_values(by='date', ascending=False)\n"
   ]
  },
  {
   "cell_type": "markdown",
   "id": "ddb008a9-4536-4592-82f7-4b63cc0a9a54",
   "metadata": {},
   "source": [
    "### Step 4 Check the rating distribution"
   ]
  },
  {
   "cell_type": "code",
   "execution_count": 9,
   "id": "21d92843-90aa-4b2d-aecc-a5abdc281d32",
   "metadata": {},
   "outputs": [
    {
     "data": {
      "text/plain": [
       "<Axes: title={'center': 'Rating reviews week of Chrismas 2022'}>"
      ]
     },
     "execution_count": 9,
     "metadata": {},
     "output_type": "execute_result"
    },
    {
     "data": {
      "image/png": "[encoded data removed]",
      "text/plain": [
       "<Figure size 640x480 with 1 Axes>"
      ]
     },
     "metadata": {},
     "output_type": "display_data"
    }
   ],
   "source": [
    "#Score Column evaluation\n",
    "sorted_df_2022['rating'].value_counts().sort_index().plot(kind='bar', title='Rating reviews week of Chrismas 2022')"
   ]
  },
  {
   "cell_type": "markdown",
   "id": "74bbfe1b-9f19-489c-8c0d-0c1d40986002",
   "metadata": {},
   "source": [
    "### Step 5 Load nltk dependencies"
   ]
  },
  {
   "cell_type": "code",
   "execution_count": 11,
   "id": "29227f3b-aec9-4161-b33c-907ba7fefd71",
   "metadata": {},
   "outputs": [
    {
     "name": "stderr",
     "output_type": "stream",
     "text": [
      "[nltk_data] Downloading package averaged_perceptron_tagger to\n",
      "[nltk_data]     C:\\Users\\savav\\AppData\\Roaming\\nltk_data...\n",
      "[nltk_data]   Package averaged_perceptron_tagger is already up-to-\n",
      "[nltk_data]       date!\n",
      "[nltk_data] Downloading package maxent_ne_chunker to\n",
      "[nltk_data]     C:\\Users\\savav\\AppData\\Roaming\\nltk_data...\n",
      "[nltk_data]   Package maxent_ne_chunker is already up-to-date!\n",
      "[nltk_data] Downloading package words to\n",
      "[nltk_data]     C:\\Users\\savav\\AppData\\Roaming\\nltk_data...\n",
      "[nltk_data]   Package words is already up-to-date!\n",
      "[nltk_data] Downloading package vader_lexicon to\n",
      "[nltk_data]     C:\\Users\\savav\\AppData\\Roaming\\nltk_data...\n",
      "[nltk_data]   Package vader_lexicon is already up-to-date!\n"
     ]
    },
    {
     "data": {
      "text/plain": [
       "True"
      ]
     },
     "execution_count": 11,
     "metadata": {},
     "output_type": "execute_result"
    }
   ],
   "source": [
    "#Load Dependencies\n",
    "import nltk\n",
    "from nltk import word_tokenize\n",
    "nltk.download('averaged_perceptron_tagger')\n",
    "nltk.download('maxent_ne_chunker')\n",
    "nltk.download('words')\n",
    "nltk.download('vader_lexicon')"
   ]
  },
  {
   "cell_type": "markdown",
   "id": "d4bacfb9-fa6b-4b91-890b-dd34098e602c",
   "metadata": {},
   "source": [
    "### Step 6 Vader Sentiment Analyis"
   ]
  },
  {
   "cell_type": "code",
   "execution_count": 13,
   "id": "c74f2924-2eed-4744-8fd6-53a0b7fac429",
   "metadata": {},
   "outputs": [],
   "source": [
    "from nltk.sentiment import SentimentIntensityAnalyzer\n",
    "from tqdm.notebook import tqdm\n",
    "\n",
    "sentiment_analyizer_object = SentimentIntensityAnalyzer()"
   ]
  },
  {
   "cell_type": "markdown",
   "id": "f5c6eb48-d9ea-49c9-b1d3-7b600e953b23",
   "metadata": {},
   "source": [
    "### Step 7 For loop to run sentiment analysis and save in a new res dictiona"
   ]
  },
  {
   "cell_type": "code",
   "execution_count": 15,
   "id": "23cda7f5-0652-4706-bdef-6b7f2519ac0a",
   "metadata": {},
   "outputs": [
    {
     "data": {
      "text/html": [
       "<div>\n",
       "<style scoped>\n",
       "    .dataframe tbody tr th:only-of-type {\n",
       "        vertical-align: middle;\n",
       "    }\n",
       "\n",
       "    .dataframe tbody tr th {\n",
       "        vertical-align: top;\n",
       "    }\n",
       "\n",
       "    .dataframe thead th {\n",
       "        text-align: right;\n",
       "    }\n",
       "</style>\n",
       "<table border=\"1\" class=\"dataframe\">\n",
       "  <thead>\n",
       "    <tr style=\"text-align: right;\">\n",
       "      <th></th>\n",
       "      <th>rating</th>\n",
       "      <th>text</th>\n",
       "      <th>asin</th>\n",
       "      <th>timestamp</th>\n",
       "      <th>parent_asin</th>\n",
       "      <th>title</th>\n",
       "      <th>main_category</th>\n",
       "      <th>date</th>\n",
       "    </tr>\n",
       "  </thead>\n",
       "  <tbody>\n",
       "    <tr>\n",
       "      <th>865620</th>\n",
       "      <td>5.0</td>\n",
       "      <td>Baby loves the song and interaction. I was sur...</td>\n",
       "      <td>B01N12F566</td>\n",
       "      <td>2022-12-25 18:31:15.967</td>\n",
       "      <td>B01N12F566</td>\n",
       "      <td>Cuddle Barn | Wheelie 8\" School Bus Singing St...</td>\n",
       "      <td>Toys &amp; Games</td>\n",
       "      <td>12-25-2022</td>\n",
       "    </tr>\n",
       "    <tr>\n",
       "      <th>289181</th>\n",
       "      <td>4.0</td>\n",
       "      <td>Colors are amazing. However the instructions w...</td>\n",
       "      <td>B092J3MWMZ</td>\n",
       "      <td>2022-12-25 15:05:15.545</td>\n",
       "      <td>B0BY6QTVB5</td>\n",
       "      <td>W&amp;O Dragon Hero Kids Tent with Roar Button - E...</td>\n",
       "      <td>Toys &amp; Games</td>\n",
       "      <td>12-25-2022</td>\n",
       "    </tr>\n",
       "    <tr>\n",
       "      <th>1678497</th>\n",
       "      <td>1.0</td>\n",
       "      <td>Disappointed 6 missing pieces so we couldn’t e...</td>\n",
       "      <td>B09HZ1GSW1</td>\n",
       "      <td>2022-12-25 16:16:05.245</td>\n",
       "      <td>B0BDTBDB3Y</td>\n",
       "      <td>BEYBLADE Burst Pro Series Evo Elite Champions ...</td>\n",
       "      <td>Toys &amp; Games</td>\n",
       "      <td>12-25-2022</td>\n",
       "    </tr>\n",
       "    <tr>\n",
       "      <th>1239760</th>\n",
       "      <td>5.0</td>\n",
       "      <td>[[VIDEOID:a59bfda4903dd144a50de0bf11405a68]] S...</td>\n",
       "      <td>B0BFDX2X5N</td>\n",
       "      <td>2022-12-25 04:42:59.720</td>\n",
       "      <td>B0BM7PW7K6</td>\n",
       "      <td>My Quiet Book - Toddler Travel Toys for Age 2 ...</td>\n",
       "      <td>Toys &amp; Games</td>\n",
       "      <td>12-25-2022</td>\n",
       "    </tr>\n",
       "    <tr>\n",
       "      <th>1239885</th>\n",
       "      <td>3.0</td>\n",
       "      <td>My son loves these little finger puppets, as h...</td>\n",
       "      <td>B09JRC5B9T</td>\n",
       "      <td>2022-12-25 13:56:05.261</td>\n",
       "      <td>B0B3TRQ837</td>\n",
       "      <td>Ginsey Nickelodeon PAW Patrol 10 Piece Finger ...</td>\n",
       "      <td>Baby</td>\n",
       "      <td>12-25-2022</td>\n",
       "    </tr>\n",
       "    <tr>\n",
       "      <th>...</th>\n",
       "      <td>...</td>\n",
       "      <td>...</td>\n",
       "      <td>...</td>\n",
       "      <td>...</td>\n",
       "      <td>...</td>\n",
       "      <td>...</td>\n",
       "      <td>...</td>\n",
       "      <td>...</td>\n",
       "    </tr>\n",
       "    <tr>\n",
       "      <th>1412023</th>\n",
       "      <td>5.0</td>\n",
       "      <td>Absolutely love these! I only wanted to try be...</td>\n",
       "      <td>B0B1M9L2YG</td>\n",
       "      <td>2022-12-17 05:27:55.202</td>\n",
       "      <td>B0B1M8CP35</td>\n",
       "      <td>GIFTOURS Reusable Water Balloons Quick Fill Se...</td>\n",
       "      <td>Toys &amp; Games</td>\n",
       "      <td>12-17-2022</td>\n",
       "    </tr>\n",
       "    <tr>\n",
       "      <th>1612367</th>\n",
       "      <td>2.0</td>\n",
       "      <td>They are cute but most of them doesn’t work I ...</td>\n",
       "      <td>B09TW66DSZ</td>\n",
       "      <td>2022-12-17 13:19:36.675</td>\n",
       "      <td>B0B4S613XL</td>\n",
       "      <td>Stondino 6PCS Video Game Party Favors Video Ga...</td>\n",
       "      <td>Toys &amp; Games</td>\n",
       "      <td>12-17-2022</td>\n",
       "    </tr>\n",
       "    <tr>\n",
       "      <th>1048051</th>\n",
       "      <td>1.0</td>\n",
       "      <td>You couldn’t fit any gumball In this tiny mach...</td>\n",
       "      <td>B084YTLJR3</td>\n",
       "      <td>2022-12-17 23:10:04.748</td>\n",
       "      <td>B0C2ZYZMJS</td>\n",
       "      <td>ArtCreativity Gumball Machine for Kids, Set of...</td>\n",
       "      <td>Grocery</td>\n",
       "      <td>12-17-2022</td>\n",
       "    </tr>\n",
       "    <tr>\n",
       "      <th>991427</th>\n",
       "      <td>4.0</td>\n",
       "      <td>I ordered Blue not Pink. Fun but Not as advert...</td>\n",
       "      <td>B0B8NS2CNW</td>\n",
       "      <td>2022-12-17 19:54:07.991</td>\n",
       "      <td>B0BY2T4KS7</td>\n",
       "      <td>TOMZON A32 Flying Toy, Flying Orb Ball Hover B...</td>\n",
       "      <td>Toys &amp; Games</td>\n",
       "      <td>12-17-2022</td>\n",
       "    </tr>\n",
       "    <tr>\n",
       "      <th>1877036</th>\n",
       "      <td>2.0</td>\n",
       "      <td>WTH!  Why did they have to put ads for prank p...</td>\n",
       "      <td>B09YJ2ZD48</td>\n",
       "      <td>2022-12-17 17:37:02.124</td>\n",
       "      <td>B09YJ2ZD48</td>\n",
       "      <td>Prank Puzzle Surprise Cheeky Chihuahua 500 Pie...</td>\n",
       "      <td>Toys &amp; Games</td>\n",
       "      <td>12-17-2022</td>\n",
       "    </tr>\n",
       "  </tbody>\n",
       "</table>\n",
       "<p>72435 rows × 8 columns</p>\n",
       "</div>"
      ],
      "text/plain": [
       "         rating                                               text  \\\n",
       "865620      5.0  Baby loves the song and interaction. I was sur...   \n",
       "289181      4.0  Colors are amazing. However the instructions w...   \n",
       "1678497     1.0  Disappointed 6 missing pieces so we couldn’t e...   \n",
       "1239760     5.0  [[VIDEOID:a59bfda4903dd144a50de0bf11405a68]] S...   \n",
       "1239885     3.0  My son loves these little finger puppets, as h...   \n",
       "...         ...                                                ...   \n",
       "1412023     5.0  Absolutely love these! I only wanted to try be...   \n",
       "1612367     2.0  They are cute but most of them doesn’t work I ...   \n",
       "1048051     1.0  You couldn’t fit any gumball In this tiny mach...   \n",
       "991427      4.0  I ordered Blue not Pink. Fun but Not as advert...   \n",
       "1877036     2.0  WTH!  Why did they have to put ads for prank p...   \n",
       "\n",
       "               asin                timestamp parent_asin  \\\n",
       "865620   B01N12F566  2022-12-25 18:31:15.967  B01N12F566   \n",
       "289181   B092J3MWMZ  2022-12-25 15:05:15.545  B0BY6QTVB5   \n",
       "1678497  B09HZ1GSW1  2022-12-25 16:16:05.245  B0BDTBDB3Y   \n",
       "1239760  B0BFDX2X5N  2022-12-25 04:42:59.720  B0BM7PW7K6   \n",
       "1239885  B09JRC5B9T  2022-12-25 13:56:05.261  B0B3TRQ837   \n",
       "...             ...                      ...         ...   \n",
       "1412023  B0B1M9L2YG  2022-12-17 05:27:55.202  B0B1M8CP35   \n",
       "1612367  B09TW66DSZ  2022-12-17 13:19:36.675  B0B4S613XL   \n",
       "1048051  B084YTLJR3  2022-12-17 23:10:04.748  B0C2ZYZMJS   \n",
       "991427   B0B8NS2CNW  2022-12-17 19:54:07.991  B0BY2T4KS7   \n",
       "1877036  B09YJ2ZD48  2022-12-17 17:37:02.124  B09YJ2ZD48   \n",
       "\n",
       "                                                     title main_category  \\\n",
       "865620   Cuddle Barn | Wheelie 8\" School Bus Singing St...  Toys & Games   \n",
       "289181   W&O Dragon Hero Kids Tent with Roar Button - E...  Toys & Games   \n",
       "1678497  BEYBLADE Burst Pro Series Evo Elite Champions ...  Toys & Games   \n",
       "1239760  My Quiet Book - Toddler Travel Toys for Age 2 ...  Toys & Games   \n",
       "1239885  Ginsey Nickelodeon PAW Patrol 10 Piece Finger ...          Baby   \n",
       "...                                                    ...           ...   \n",
       "1412023  GIFTOURS Reusable Water Balloons Quick Fill Se...  Toys & Games   \n",
       "1612367  Stondino 6PCS Video Game Party Favors Video Ga...  Toys & Games   \n",
       "1048051  ArtCreativity Gumball Machine for Kids, Set of...       Grocery   \n",
       "991427   TOMZON A32 Flying Toy, Flying Orb Ball Hover B...  Toys & Games   \n",
       "1877036  Prank Puzzle Surprise Cheeky Chihuahua 500 Pie...  Toys & Games   \n",
       "\n",
       "               date  \n",
       "865620   12-25-2022  \n",
       "289181   12-25-2022  \n",
       "1678497  12-25-2022  \n",
       "1239760  12-25-2022  \n",
       "1239885  12-25-2022  \n",
       "...             ...  \n",
       "1412023  12-17-2022  \n",
       "1612367  12-17-2022  \n",
       "1048051  12-17-2022  \n",
       "991427   12-17-2022  \n",
       "1877036  12-17-2022  \n",
       "\n",
       "[72435 rows x 8 columns]"
      ]
     },
     "execution_count": 15,
     "metadata": {},
     "output_type": "execute_result"
    }
   ],
   "source": [
    "sorted_df_2022"
   ]
  },
  {
   "cell_type": "markdown",
   "id": "fc88f8f2-59f2-4026-a3ed-3736b74dc195",
   "metadata": {},
   "source": [
    "### Step 8 For loop to run sentiment analysis and save in a new res dictionary"
   ]
  },
  {
   "cell_type": "code",
   "execution_count": 17,
   "id": "ec2a4343-e8eb-427c-8457-3d226bfe8cce",
   "metadata": {},
   "outputs": [
    {
     "data": {
      "application/vnd.jupyter.widget-view+json": {
       "model_id": "1df793d11f5f423c9f2f02da40cc31b9",
       "version_major": 2,
       "version_minor": 0
      },
      "text/plain": [
       "  0%|          | 0/72435 [00:00<?, ?it/s]"
      ]
     },
     "metadata": {},
     "output_type": "display_data"
    }
   ],
   "source": [
    "### Run the polarity score on the entire dataset\n",
    "\n",
    "sorted_df_2022['text'] = sorted_df_2022['text'].astype(str)\n",
    "\n",
    "res = {}\n",
    "for i, row in tqdm(sorted_df_2022.iterrows(), total=len(sorted_df_2022)):\n",
    "    text = row['text']\n",
    "    #print(text)\n",
    "    res[i] = sentiment_analyizer_object.polarity_scores(text)"
   ]
  },
  {
   "cell_type": "markdown",
   "id": "ae61966f-aede-462a-9958-8fbeccd7391e",
   "metadata": {},
   "source": [
    "### Step 9 Save dictionary into a dataframe and print it out"
   ]
  },
  {
   "cell_type": "code",
   "execution_count": 19,
   "id": "6974f7c1-880b-4c6f-9782-968cd9b9b408",
   "metadata": {},
   "outputs": [
    {
     "data": {
      "text/html": [
       "<div>\n",
       "<style scoped>\n",
       "    .dataframe tbody tr th:only-of-type {\n",
       "        vertical-align: middle;\n",
       "    }\n",
       "\n",
       "    .dataframe tbody tr th {\n",
       "        vertical-align: top;\n",
       "    }\n",
       "\n",
       "    .dataframe thead th {\n",
       "        text-align: right;\n",
       "    }\n",
       "</style>\n",
       "<table border=\"1\" class=\"dataframe\">\n",
       "  <thead>\n",
       "    <tr style=\"text-align: right;\">\n",
       "      <th></th>\n",
       "      <th>neg</th>\n",
       "      <th>neu</th>\n",
       "      <th>pos</th>\n",
       "      <th>compound</th>\n",
       "    </tr>\n",
       "  </thead>\n",
       "  <tbody>\n",
       "    <tr>\n",
       "      <th>865620</th>\n",
       "      <td>0.000</td>\n",
       "      <td>0.574</td>\n",
       "      <td>0.426</td>\n",
       "      <td>0.9682</td>\n",
       "    </tr>\n",
       "    <tr>\n",
       "      <th>289181</th>\n",
       "      <td>0.014</td>\n",
       "      <td>0.753</td>\n",
       "      <td>0.233</td>\n",
       "      <td>0.9800</td>\n",
       "    </tr>\n",
       "    <tr>\n",
       "      <th>1678497</th>\n",
       "      <td>0.325</td>\n",
       "      <td>0.675</td>\n",
       "      <td>0.000</td>\n",
       "      <td>-0.6486</td>\n",
       "    </tr>\n",
       "    <tr>\n",
       "      <th>1239760</th>\n",
       "      <td>0.049</td>\n",
       "      <td>0.830</td>\n",
       "      <td>0.121</td>\n",
       "      <td>0.8346</td>\n",
       "    </tr>\n",
       "    <tr>\n",
       "      <th>1239885</th>\n",
       "      <td>0.032</td>\n",
       "      <td>0.797</td>\n",
       "      <td>0.171</td>\n",
       "      <td>0.8885</td>\n",
       "    </tr>\n",
       "    <tr>\n",
       "      <th>...</th>\n",
       "      <td>...</td>\n",
       "      <td>...</td>\n",
       "      <td>...</td>\n",
       "      <td>...</td>\n",
       "    </tr>\n",
       "    <tr>\n",
       "      <th>1412023</th>\n",
       "      <td>0.043</td>\n",
       "      <td>0.739</td>\n",
       "      <td>0.218</td>\n",
       "      <td>0.9751</td>\n",
       "    </tr>\n",
       "    <tr>\n",
       "      <th>1612367</th>\n",
       "      <td>0.236</td>\n",
       "      <td>0.637</td>\n",
       "      <td>0.127</td>\n",
       "      <td>-0.4019</td>\n",
       "    </tr>\n",
       "    <tr>\n",
       "      <th>1048051</th>\n",
       "      <td>0.093</td>\n",
       "      <td>0.746</td>\n",
       "      <td>0.161</td>\n",
       "      <td>0.3182</td>\n",
       "    </tr>\n",
       "    <tr>\n",
       "      <th>991427</th>\n",
       "      <td>0.093</td>\n",
       "      <td>0.907</td>\n",
       "      <td>0.000</td>\n",
       "      <td>-0.2146</td>\n",
       "    </tr>\n",
       "    <tr>\n",
       "      <th>1877036</th>\n",
       "      <td>0.199</td>\n",
       "      <td>0.801</td>\n",
       "      <td>0.000</td>\n",
       "      <td>-0.7734</td>\n",
       "    </tr>\n",
       "  </tbody>\n",
       "</table>\n",
       "<p>72435 rows × 4 columns</p>\n",
       "</div>"
      ],
      "text/plain": [
       "           neg    neu    pos  compound\n",
       "865620   0.000  0.574  0.426    0.9682\n",
       "289181   0.014  0.753  0.233    0.9800\n",
       "1678497  0.325  0.675  0.000   -0.6486\n",
       "1239760  0.049  0.830  0.121    0.8346\n",
       "1239885  0.032  0.797  0.171    0.8885\n",
       "...        ...    ...    ...       ...\n",
       "1412023  0.043  0.739  0.218    0.9751\n",
       "1612367  0.236  0.637  0.127   -0.4019\n",
       "1048051  0.093  0.746  0.161    0.3182\n",
       "991427   0.093  0.907  0.000   -0.2146\n",
       "1877036  0.199  0.801  0.000   -0.7734\n",
       "\n",
       "[72435 rows x 4 columns]"
      ]
     },
     "execution_count": 19,
     "metadata": {},
     "output_type": "execute_result"
    }
   ],
   "source": [
    "vaders_christmas_2022 = pd.DataFrame(res).T\n",
    "vaders_christmas_2022"
   ]
  },
  {
   "cell_type": "markdown",
   "id": "508eebfe-1eb3-40e9-ab90-7b50c443b83f",
   "metadata": {},
   "source": [
    "### Step 10 Merge the vader dataset with Neg/Neu/Pos compound fields with the original 2022 sorted data set"
   ]
  },
  {
   "cell_type": "code",
   "execution_count": 21,
   "id": "fa6b3eef-becc-4158-bfaa-6cad73fcd2d5",
   "metadata": {},
   "outputs": [],
   "source": [
    "vaders_christmas_2022 = pd.DataFrame(res).T\n",
    "merged_christmas_2022 = pd.merge(vaders_christmas_2022, sorted_df_2022, left_index=True, right_index=True)"
   ]
  },
  {
   "cell_type": "code",
   "execution_count": 23,
   "id": "2b463168-5ea8-476d-97f7-39eb71f4a4a4",
   "metadata": {},
   "outputs": [
    {
     "data": {
      "text/html": [
       "<div>\n",
       "<style scoped>\n",
       "    .dataframe tbody tr th:only-of-type {\n",
       "        vertical-align: middle;\n",
       "    }\n",
       "\n",
       "    .dataframe tbody tr th {\n",
       "        vertical-align: top;\n",
       "    }\n",
       "\n",
       "    .dataframe thead th {\n",
       "        text-align: right;\n",
       "    }\n",
       "</style>\n",
       "<table border=\"1\" class=\"dataframe\">\n",
       "  <thead>\n",
       "    <tr style=\"text-align: right;\">\n",
       "      <th></th>\n",
       "      <th>neg</th>\n",
       "      <th>neu</th>\n",
       "      <th>pos</th>\n",
       "      <th>compound</th>\n",
       "      <th>rating</th>\n",
       "      <th>text</th>\n",
       "      <th>asin</th>\n",
       "      <th>timestamp</th>\n",
       "      <th>parent_asin</th>\n",
       "      <th>title</th>\n",
       "      <th>main_category</th>\n",
       "      <th>date</th>\n",
       "    </tr>\n",
       "  </thead>\n",
       "  <tbody>\n",
       "    <tr>\n",
       "      <th>865620</th>\n",
       "      <td>0.000</td>\n",
       "      <td>0.574</td>\n",
       "      <td>0.426</td>\n",
       "      <td>0.9682</td>\n",
       "      <td>5.0</td>\n",
       "      <td>Baby loves the song and interaction. I was sur...</td>\n",
       "      <td>B01N12F566</td>\n",
       "      <td>2022-12-25 18:31:15.967</td>\n",
       "      <td>B01N12F566</td>\n",
       "      <td>Cuddle Barn | Wheelie 8\" School Bus Singing St...</td>\n",
       "      <td>Toys &amp; Games</td>\n",
       "      <td>12-25-2022</td>\n",
       "    </tr>\n",
       "    <tr>\n",
       "      <th>289181</th>\n",
       "      <td>0.014</td>\n",
       "      <td>0.753</td>\n",
       "      <td>0.233</td>\n",
       "      <td>0.9800</td>\n",
       "      <td>4.0</td>\n",
       "      <td>Colors are amazing. However the instructions w...</td>\n",
       "      <td>B092J3MWMZ</td>\n",
       "      <td>2022-12-25 15:05:15.545</td>\n",
       "      <td>B0BY6QTVB5</td>\n",
       "      <td>W&amp;O Dragon Hero Kids Tent with Roar Button - E...</td>\n",
       "      <td>Toys &amp; Games</td>\n",
       "      <td>12-25-2022</td>\n",
       "    </tr>\n",
       "    <tr>\n",
       "      <th>1678497</th>\n",
       "      <td>0.325</td>\n",
       "      <td>0.675</td>\n",
       "      <td>0.000</td>\n",
       "      <td>-0.6486</td>\n",
       "      <td>1.0</td>\n",
       "      <td>Disappointed 6 missing pieces so we couldn’t e...</td>\n",
       "      <td>B09HZ1GSW1</td>\n",
       "      <td>2022-12-25 16:16:05.245</td>\n",
       "      <td>B0BDTBDB3Y</td>\n",
       "      <td>BEYBLADE Burst Pro Series Evo Elite Champions ...</td>\n",
       "      <td>Toys &amp; Games</td>\n",
       "      <td>12-25-2022</td>\n",
       "    </tr>\n",
       "    <tr>\n",
       "      <th>1239760</th>\n",
       "      <td>0.049</td>\n",
       "      <td>0.830</td>\n",
       "      <td>0.121</td>\n",
       "      <td>0.8346</td>\n",
       "      <td>5.0</td>\n",
       "      <td>[[VIDEOID:a59bfda4903dd144a50de0bf11405a68]] S...</td>\n",
       "      <td>B0BFDX2X5N</td>\n",
       "      <td>2022-12-25 04:42:59.720</td>\n",
       "      <td>B0BM7PW7K6</td>\n",
       "      <td>My Quiet Book - Toddler Travel Toys for Age 2 ...</td>\n",
       "      <td>Toys &amp; Games</td>\n",
       "      <td>12-25-2022</td>\n",
       "    </tr>\n",
       "    <tr>\n",
       "      <th>1239885</th>\n",
       "      <td>0.032</td>\n",
       "      <td>0.797</td>\n",
       "      <td>0.171</td>\n",
       "      <td>0.8885</td>\n",
       "      <td>3.0</td>\n",
       "      <td>My son loves these little finger puppets, as h...</td>\n",
       "      <td>B09JRC5B9T</td>\n",
       "      <td>2022-12-25 13:56:05.261</td>\n",
       "      <td>B0B3TRQ837</td>\n",
       "      <td>Ginsey Nickelodeon PAW Patrol 10 Piece Finger ...</td>\n",
       "      <td>Baby</td>\n",
       "      <td>12-25-2022</td>\n",
       "    </tr>\n",
       "    <tr>\n",
       "      <th>...</th>\n",
       "      <td>...</td>\n",
       "      <td>...</td>\n",
       "      <td>...</td>\n",
       "      <td>...</td>\n",
       "      <td>...</td>\n",
       "      <td>...</td>\n",
       "      <td>...</td>\n",
       "      <td>...</td>\n",
       "      <td>...</td>\n",
       "      <td>...</td>\n",
       "      <td>...</td>\n",
       "      <td>...</td>\n",
       "    </tr>\n",
       "    <tr>\n",
       "      <th>1412023</th>\n",
       "      <td>0.043</td>\n",
       "      <td>0.739</td>\n",
       "      <td>0.218</td>\n",
       "      <td>0.9751</td>\n",
       "      <td>5.0</td>\n",
       "      <td>Absolutely love these! I only wanted to try be...</td>\n",
       "      <td>B0B1M9L2YG</td>\n",
       "      <td>2022-12-17 05:27:55.202</td>\n",
       "      <td>B0B1M8CP35</td>\n",
       "      <td>GIFTOURS Reusable Water Balloons Quick Fill Se...</td>\n",
       "      <td>Toys &amp; Games</td>\n",
       "      <td>12-17-2022</td>\n",
       "    </tr>\n",
       "    <tr>\n",
       "      <th>1612367</th>\n",
       "      <td>0.236</td>\n",
       "      <td>0.637</td>\n",
       "      <td>0.127</td>\n",
       "      <td>-0.4019</td>\n",
       "      <td>2.0</td>\n",
       "      <td>They are cute but most of them doesn’t work I ...</td>\n",
       "      <td>B09TW66DSZ</td>\n",
       "      <td>2022-12-17 13:19:36.675</td>\n",
       "      <td>B0B4S613XL</td>\n",
       "      <td>Stondino 6PCS Video Game Party Favors Video Ga...</td>\n",
       "      <td>Toys &amp; Games</td>\n",
       "      <td>12-17-2022</td>\n",
       "    </tr>\n",
       "    <tr>\n",
       "      <th>1048051</th>\n",
       "      <td>0.093</td>\n",
       "      <td>0.746</td>\n",
       "      <td>0.161</td>\n",
       "      <td>0.3182</td>\n",
       "      <td>1.0</td>\n",
       "      <td>You couldn’t fit any gumball In this tiny mach...</td>\n",
       "      <td>B084YTLJR3</td>\n",
       "      <td>2022-12-17 23:10:04.748</td>\n",
       "      <td>B0C2ZYZMJS</td>\n",
       "      <td>ArtCreativity Gumball Machine for Kids, Set of...</td>\n",
       "      <td>Grocery</td>\n",
       "      <td>12-17-2022</td>\n",
       "    </tr>\n",
       "    <tr>\n",
       "      <th>991427</th>\n",
       "      <td>0.093</td>\n",
       "      <td>0.907</td>\n",
       "      <td>0.000</td>\n",
       "      <td>-0.2146</td>\n",
       "      <td>4.0</td>\n",
       "      <td>I ordered Blue not Pink. Fun but Not as advert...</td>\n",
       "      <td>B0B8NS2CNW</td>\n",
       "      <td>2022-12-17 19:54:07.991</td>\n",
       "      <td>B0BY2T4KS7</td>\n",
       "      <td>TOMZON A32 Flying Toy, Flying Orb Ball Hover B...</td>\n",
       "      <td>Toys &amp; Games</td>\n",
       "      <td>12-17-2022</td>\n",
       "    </tr>\n",
       "    <tr>\n",
       "      <th>1877036</th>\n",
       "      <td>0.199</td>\n",
       "      <td>0.801</td>\n",
       "      <td>0.000</td>\n",
       "      <td>-0.7734</td>\n",
       "      <td>2.0</td>\n",
       "      <td>WTH!  Why did they have to put ads for prank p...</td>\n",
       "      <td>B09YJ2ZD48</td>\n",
       "      <td>2022-12-17 17:37:02.124</td>\n",
       "      <td>B09YJ2ZD48</td>\n",
       "      <td>Prank Puzzle Surprise Cheeky Chihuahua 500 Pie...</td>\n",
       "      <td>Toys &amp; Games</td>\n",
       "      <td>12-17-2022</td>\n",
       "    </tr>\n",
       "  </tbody>\n",
       "</table>\n",
       "<p>72435 rows × 12 columns</p>\n",
       "</div>"
      ],
      "text/plain": [
       "           neg    neu    pos  compound  rating  \\\n",
       "865620   0.000  0.574  0.426    0.9682     5.0   \n",
       "289181   0.014  0.753  0.233    0.9800     4.0   \n",
       "1678497  0.325  0.675  0.000   -0.6486     1.0   \n",
       "1239760  0.049  0.830  0.121    0.8346     5.0   \n",
       "1239885  0.032  0.797  0.171    0.8885     3.0   \n",
       "...        ...    ...    ...       ...     ...   \n",
       "1412023  0.043  0.739  0.218    0.9751     5.0   \n",
       "1612367  0.236  0.637  0.127   -0.4019     2.0   \n",
       "1048051  0.093  0.746  0.161    0.3182     1.0   \n",
       "991427   0.093  0.907  0.000   -0.2146     4.0   \n",
       "1877036  0.199  0.801  0.000   -0.7734     2.0   \n",
       "\n",
       "                                                      text        asin  \\\n",
       "865620   Baby loves the song and interaction. I was sur...  B01N12F566   \n",
       "289181   Colors are amazing. However the instructions w...  B092J3MWMZ   \n",
       "1678497  Disappointed 6 missing pieces so we couldn’t e...  B09HZ1GSW1   \n",
       "1239760  [[VIDEOID:a59bfda4903dd144a50de0bf11405a68]] S...  B0BFDX2X5N   \n",
       "1239885  My son loves these little finger puppets, as h...  B09JRC5B9T   \n",
       "...                                                    ...         ...   \n",
       "1412023  Absolutely love these! I only wanted to try be...  B0B1M9L2YG   \n",
       "1612367  They are cute but most of them doesn’t work I ...  B09TW66DSZ   \n",
       "1048051  You couldn’t fit any gumball In this tiny mach...  B084YTLJR3   \n",
       "991427   I ordered Blue not Pink. Fun but Not as advert...  B0B8NS2CNW   \n",
       "1877036  WTH!  Why did they have to put ads for prank p...  B09YJ2ZD48   \n",
       "\n",
       "                       timestamp parent_asin  \\\n",
       "865620   2022-12-25 18:31:15.967  B01N12F566   \n",
       "289181   2022-12-25 15:05:15.545  B0BY6QTVB5   \n",
       "1678497  2022-12-25 16:16:05.245  B0BDTBDB3Y   \n",
       "1239760  2022-12-25 04:42:59.720  B0BM7PW7K6   \n",
       "1239885  2022-12-25 13:56:05.261  B0B3TRQ837   \n",
       "...                          ...         ...   \n",
       "1412023  2022-12-17 05:27:55.202  B0B1M8CP35   \n",
       "1612367  2022-12-17 13:19:36.675  B0B4S613XL   \n",
       "1048051  2022-12-17 23:10:04.748  B0C2ZYZMJS   \n",
       "991427   2022-12-17 19:54:07.991  B0BY2T4KS7   \n",
       "1877036  2022-12-17 17:37:02.124  B09YJ2ZD48   \n",
       "\n",
       "                                                     title main_category  \\\n",
       "865620   Cuddle Barn | Wheelie 8\" School Bus Singing St...  Toys & Games   \n",
       "289181   W&O Dragon Hero Kids Tent with Roar Button - E...  Toys & Games   \n",
       "1678497  BEYBLADE Burst Pro Series Evo Elite Champions ...  Toys & Games   \n",
       "1239760  My Quiet Book - Toddler Travel Toys for Age 2 ...  Toys & Games   \n",
       "1239885  Ginsey Nickelodeon PAW Patrol 10 Piece Finger ...          Baby   \n",
       "...                                                    ...           ...   \n",
       "1412023  GIFTOURS Reusable Water Balloons Quick Fill Se...  Toys & Games   \n",
       "1612367  Stondino 6PCS Video Game Party Favors Video Ga...  Toys & Games   \n",
       "1048051  ArtCreativity Gumball Machine for Kids, Set of...       Grocery   \n",
       "991427   TOMZON A32 Flying Toy, Flying Orb Ball Hover B...  Toys & Games   \n",
       "1877036  Prank Puzzle Surprise Cheeky Chihuahua 500 Pie...  Toys & Games   \n",
       "\n",
       "               date  \n",
       "865620   12-25-2022  \n",
       "289181   12-25-2022  \n",
       "1678497  12-25-2022  \n",
       "1239760  12-25-2022  \n",
       "1239885  12-25-2022  \n",
       "...             ...  \n",
       "1412023  12-17-2022  \n",
       "1612367  12-17-2022  \n",
       "1048051  12-17-2022  \n",
       "991427   12-17-2022  \n",
       "1877036  12-17-2022  \n",
       "\n",
       "[72435 rows x 12 columns]"
      ]
     },
     "execution_count": 23,
     "metadata": {},
     "output_type": "execute_result"
    }
   ],
   "source": [
    "merged_christmas_2022"
   ]
  },
  {
   "cell_type": "markdown",
   "id": "e3128a5e-e11c-40f3-b128-dc2411915b0b",
   "metadata": {},
   "source": [
    "### Step 11 Plot vader compound score vs the rating"
   ]
  },
  {
   "cell_type": "code",
   "execution_count": 25,
   "id": "ecef3ea2-ac3e-47b2-a26d-604383f9de03",
   "metadata": {},
   "outputs": [
    {
     "data": {
      "image/png": "[encoded data removed]",
      "text/plain": [
       "<Figure size 640x480 with 1 Axes>"
      ]
     },
     "metadata": {},
     "output_type": "display_data"
    }
   ],
   "source": [
    "import seaborn as sns\n",
    "import matplotlib.pyplot as plt\n",
    "ax = sns.barplot(data=merged_christmas_2022, x='rating', y='compound')\n",
    "ax.set_title('Compound score by Amazon star Review')\n",
    "plt.show()"
   ]
  },
  {
   "cell_type": "code",
   "execution_count": null,
   "id": "af187fe4-e1b3-4d3d-b53c-242cc4999ad0",
   "metadata": {},
   "outputs": [],
   "source": [
    "### Step 12 Compare vader score with positive neutral or negative scores\n"
   ]
  },
  {
   "cell_type": "code",
   "execution_count": 63,
   "id": "9569887e-1345-4dd0-a04a-5882fef6edce",
   "metadata": {},
   "outputs": [
    {
     "data": {
      "image/png": "[encoded data removed]",
      "text/plain": [
       "<Figure size 1500x500 with 3 Axes>"
      ]
     },
     "metadata": {},
     "output_type": "display_data"
    }
   ],
   "source": [
    "fig, axs = plt.subplots(1, 3, figsize=(15, 5))\n",
    "sns.barplot(data=merged_christmas_2022, x='rating', y='pos', ax =axs[0])\n",
    "sns.barplot(data=merged_christmas_2022, x='rating', y='neu', ax =axs[1])\n",
    "sns.barplot(data=merged_christmas_2022, x='rating', y='neg', ax =axs[2])\n",
    "axs[0].set_title('Positive')\n",
    "axs[1].set_title('Neutral')\n",
    "axs[2].set_title('Negative')\n",
    "plt.tight_layout()\n",
    "plt.show()\n",
    "\n"
   ]
  },
  {
   "cell_type": "code",
   "execution_count": 27,
   "id": "867c0523-9456-4c96-a880-3a428ee345bc",
   "metadata": {},
   "outputs": [
    {
     "data": {
      "image/png": "[encoded data removed]",
      "text/plain": [
       "<Figure size 1500x500 with 3 Axes>"
      ]
     },
     "metadata": {},
     "output_type": "display_data"
    }
   ],
   "source": [
    "fig, axs = plt.subplots(1, 3, figsize=(15, 5))\n",
    "sns.barplot(data=merged_christmas_2022, x='rating', y='pos', ax =axs[0])\n",
    "sns.barplot(data=merged_christmas_2022, x='rating', y='neu', ax =axs[1])\n",
    "sns.barplot(data=merged_christmas_2022, x='rating', y='neg', ax =axs[2])\n",
    "axs[0].set_title('Positive')\n",
    "axs[1].set_title('Neutral')\n",
    "axs[2].set_title('Negative')\n",
    "plt.tight_layout()\n",
    "plt.show()\n",
    "\n"
   ]
  },
  {
   "cell_type": "code",
   "execution_count": null,
   "id": "fb5cf55e-eaae-4170-8f0f-73ac4f8e862c",
   "metadata": {},
   "outputs": [],
   "source": []
  }
 ],
 "metadata": {
  "kernelspec": {
   "display_name": "Python 3 (ipykernel)",
   "language": "python",
   "name": "python3"
  },
  "language_info": {
   "codemirror_mode": {
    "name": "ipython",
    "version": 3
   },
   "file_extension": ".py",
   "mimetype": "text/x-python",
   "name": "python",
   "nbconvert_exporter": "python",
   "pygments_lexer": "ipython3",
   "version": "3.11.7"
  }
 },
 "nbformat": 4,
 "nbformat_minor": 5
}
