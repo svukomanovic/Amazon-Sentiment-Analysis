{
 "cells": [
  {
   "cell_type": "markdown",
   "id": "8de44963-819c-4fb5-8520-4911af67c8e8",
   "metadata": {},
   "source": [
    "### Step 1 Load data into data frame"
   ]
  },
  {
   "cell_type": "code",
   "execution_count": 2,
   "id": "a119953e-7ff3-445b-a99e-a4237a22be84",
   "metadata": {},
   "outputs": [],
   "source": [
    "import pandas as pd\n",
    "\n",
    "# Load the CSV file into a new DataFrame\n",
    "combined_df_2022 = pd.read_csv('toys_and_games_year_2022.csv')"
   ]
  },
  {
   "cell_type": "code",
   "execution_count": 3,
   "id": "a837e18f-9da6-4e1b-a6a4-8c5407b41205",
   "metadata": {},
   "outputs": [],
   "source": [
    "### Step 2 Pick week before Holiday"
   ]
  },
  {
   "cell_type": "code",
   "execution_count": 4,
   "id": "f3d81c7b-ac36-488a-b814-d6741ec44d12",
   "metadata": {},
   "outputs": [
    {
     "name": "stdout",
     "output_type": "stream",
     "text": [
      "(463892, 8)\n"
     ]
    }
   ],
   "source": [
    "# Define the date range\n",
    "start_date = '11-01-2022'\n",
    "end_date = '12-31-2022'\n",
    "\n",
    "# Filter the DataFrame for the date range\n",
    "filtered_df_holiday = combined_df_2022[(combined_df_2022['date'] >= start_date) & (combined_df_2022['date'] <= end_date)]\n",
    "\n",
    "# Print the shape of the filtered DataFrame\n",
    "print(filtered_df_holiday.shape)\n"
   ]
  },
  {
   "cell_type": "markdown",
   "id": "77f0a9c6-95ba-4b7e-b776-96a4b5ec364e",
   "metadata": {},
   "source": [
    "### Step 3 Sort the data by dates"
   ]
  },
  {
   "cell_type": "code",
   "execution_count": 6,
   "id": "3ddaeb7e-5a1a-40a3-b7a0-6a4ee8e472fc",
   "metadata": {},
   "outputs": [],
   "source": [
    "sorted_df_2022 = filtered_df_holiday.sort_values(by='date', ascending=False)\n"
   ]
  },
  {
   "cell_type": "markdown",
   "id": "ddb008a9-4536-4592-82f7-4b63cc0a9a54",
   "metadata": {},
   "source": [
    "### Step 4 Check the rating distribution"
   ]
  },
  {
   "cell_type": "code",
   "execution_count": 8,
   "id": "21d92843-90aa-4b2d-aecc-a5abdc281d32",
   "metadata": {},
   "outputs": [
    {
     "data": {
      "text/plain": [
       "<Axes: title={'center': 'Rating reviews week of Chrismas 2022'}>"
      ]
     },
     "execution_count": 8,
     "metadata": {},
     "output_type": "execute_result"
    },
    {
     "data": {
      "image/png": "[encoded data removed]",
      "text/plain": [
       "<Figure size 640x480 with 1 Axes>"
      ]
     },
     "metadata": {},
     "output_type": "display_data"
    }
   ],
   "source": [
    "#Score Column evaluation\n",
    "sorted_df_2022['rating'].value_counts().sort_index().plot(kind='bar', title='Rating reviews week of Chrismas 2022')"
   ]
  },
  {
   "cell_type": "markdown",
   "id": "74bbfe1b-9f19-489c-8c0d-0c1d40986002",
   "metadata": {},
   "source": [
    "### Step 5 Load nltk dependencies"
   ]
  },
  {
   "cell_type": "code",
   "execution_count": 10,
   "id": "29227f3b-aec9-4161-b33c-907ba7fefd71",
   "metadata": {},
   "outputs": [
    {
     "name": "stderr",
     "output_type": "stream",
     "text": [
      "[nltk_data] Downloading package averaged_perceptron_tagger to\n",
      "[nltk_data]     C:\\Users\\savav\\AppData\\Roaming\\nltk_data...\n",
      "[nltk_data]   Package averaged_perceptron_tagger is already up-to-\n",
      "[nltk_data]       date!\n",
      "[nltk_data] Downloading package maxent_ne_chunker to\n",
      "[nltk_data]     C:\\Users\\savav\\AppData\\Roaming\\nltk_data...\n",
      "[nltk_data]   Package maxent_ne_chunker is already up-to-date!\n",
      "[nltk_data] Downloading package words to\n",
      "[nltk_data]     C:\\Users\\savav\\AppData\\Roaming\\nltk_data...\n",
      "[nltk_data]   Package words is already up-to-date!\n",
      "[nltk_data] Downloading package vader_lexicon to\n",
      "[nltk_data]     C:\\Users\\savav\\AppData\\Roaming\\nltk_data...\n",
      "[nltk_data]   Package vader_lexicon is already up-to-date!\n"
     ]
    },
    {
     "data": {
      "text/plain": [
       "True"
      ]
     },
     "execution_count": 10,
     "metadata": {},
     "output_type": "execute_result"
    }
   ],
   "source": [
    "#Load Dependencies\n",
    "import nltk\n",
    "from nltk import word_tokenize\n",
    "nltk.download('averaged_perceptron_tagger')\n",
    "nltk.download('maxent_ne_chunker')\n",
    "nltk.download('words')\n",
    "nltk.download('vader_lexicon')"
   ]
  },
  {
   "cell_type": "markdown",
   "id": "d4bacfb9-fa6b-4b91-890b-dd34098e602c",
   "metadata": {},
   "source": [
    "### Step 6 Vader Sentiment Analyis"
   ]
  },
  {
   "cell_type": "code",
   "execution_count": 12,
   "id": "c74f2924-2eed-4744-8fd6-53a0b7fac429",
   "metadata": {},
   "outputs": [],
   "source": [
    "from nltk.sentiment import SentimentIntensityAnalyzer\n",
    "from tqdm.notebook import tqdm\n",
    "\n",
    "sentiment_analyizer_object = SentimentIntensityAnalyzer()"
   ]
  },
  {
   "cell_type": "markdown",
   "id": "f5c6eb48-d9ea-49c9-b1d3-7b600e953b23",
   "metadata": {},
   "source": [
    "### Step 7 For loop to run sentiment analysis and save in a new res dictiona"
   ]
  },
  {
   "cell_type": "code",
   "execution_count": 14,
   "id": "23cda7f5-0652-4706-bdef-6b7f2519ac0a",
   "metadata": {},
   "outputs": [
    {
     "data": {
      "text/html": [
       "<div>\n",
       "<style scoped>\n",
       "    .dataframe tbody tr th:only-of-type {\n",
       "        vertical-align: middle;\n",
       "    }\n",
       "\n",
       "    .dataframe tbody tr th {\n",
       "        vertical-align: top;\n",
       "    }\n",
       "\n",
       "    .dataframe thead th {\n",
       "        text-align: right;\n",
       "    }\n",
       "</style>\n",
       "<table border=\"1\" class=\"dataframe\">\n",
       "  <thead>\n",
       "    <tr style=\"text-align: right;\">\n",
       "      <th></th>\n",
       "      <th>rating</th>\n",
       "      <th>text</th>\n",
       "      <th>asin</th>\n",
       "      <th>timestamp</th>\n",
       "      <th>parent_asin</th>\n",
       "      <th>title</th>\n",
       "      <th>main_category</th>\n",
       "      <th>date</th>\n",
       "    </tr>\n",
       "  </thead>\n",
       "  <tbody>\n",
       "    <tr>\n",
       "      <th>1367229</th>\n",
       "      <td>3.0</td>\n",
       "      <td>I gifted this to my daughter for Christmas and...</td>\n",
       "      <td>B095NZB1XR</td>\n",
       "      <td>2022-12-31 22:42:37.129</td>\n",
       "      <td>B094X69L9P</td>\n",
       "      <td>Anime Plush Doll Figures Gojo Satoru / Yuji It...</td>\n",
       "      <td>Toys &amp; Games</td>\n",
       "      <td>12-31-2022</td>\n",
       "    </tr>\n",
       "    <tr>\n",
       "      <th>1793795</th>\n",
       "      <td>5.0</td>\n",
       "      <td>Excelente para bebé</td>\n",
       "      <td>B0832PCCVP</td>\n",
       "      <td>2022-12-31 16:03:58.718</td>\n",
       "      <td>B0832PCCVP</td>\n",
       "      <td>Jasonwell Baby Swimming Float Inflatable Baby ...</td>\n",
       "      <td>Toys &amp; Games</td>\n",
       "      <td>12-31-2022</td>\n",
       "    </tr>\n",
       "    <tr>\n",
       "      <th>570042</th>\n",
       "      <td>4.0</td>\n",
       "      <td>Fun family game</td>\n",
       "      <td>B07BHJWDGX</td>\n",
       "      <td>2022-12-31 19:04:44.067</td>\n",
       "      <td>B0C5F8QK6K</td>\n",
       "      <td>Harry Potter Potions Challenge Board Game for ...</td>\n",
       "      <td>Toys &amp; Games</td>\n",
       "      <td>12-31-2022</td>\n",
       "    </tr>\n",
       "    <tr>\n",
       "      <th>289033</th>\n",
       "      <td>5.0</td>\n",
       "      <td>The grandson loves it. Only complaint is the b...</td>\n",
       "      <td>B09BGQLD6L</td>\n",
       "      <td>2022-12-31 18:37:13.536</td>\n",
       "      <td>B0BY6QTVB5</td>\n",
       "      <td>W&amp;O Dragon Hero Kids Tent with Roar Button - E...</td>\n",
       "      <td>Toys &amp; Games</td>\n",
       "      <td>12-31-2022</td>\n",
       "    </tr>\n",
       "    <tr>\n",
       "      <th>570058</th>\n",
       "      <td>2.0</td>\n",
       "      <td>The game concept is just fine and very easy to...</td>\n",
       "      <td>B07F813YYY</td>\n",
       "      <td>2022-12-31 02:41:22.709</td>\n",
       "      <td>B0C5F8QK6K</td>\n",
       "      <td>Harry Potter Potions Challenge Board Game for ...</td>\n",
       "      <td>Toys &amp; Games</td>\n",
       "      <td>12-31-2022</td>\n",
       "    </tr>\n",
       "    <tr>\n",
       "      <th>...</th>\n",
       "      <td>...</td>\n",
       "      <td>...</td>\n",
       "      <td>...</td>\n",
       "      <td>...</td>\n",
       "      <td>...</td>\n",
       "      <td>...</td>\n",
       "      <td>...</td>\n",
       "      <td>...</td>\n",
       "    </tr>\n",
       "    <tr>\n",
       "      <th>1991307</th>\n",
       "      <td>3.0</td>\n",
       "      <td>It did come as pictured, however, does not com...</td>\n",
       "      <td>B09YH2L7L3</td>\n",
       "      <td>2022-11-01 15:17:00.327</td>\n",
       "      <td>B09YGT5QK6</td>\n",
       "      <td>MATTTIME Cow 1st Birthday Decoration Burlap Ba...</td>\n",
       "      <td>Toys &amp; Games</td>\n",
       "      <td>11-01-2022</td>\n",
       "    </tr>\n",
       "    <tr>\n",
       "      <th>382646</th>\n",
       "      <td>5.0</td>\n",
       "      <td>Kid friendly</td>\n",
       "      <td>B082HMPKVK</td>\n",
       "      <td>2022-11-01 09:37:30.324</td>\n",
       "      <td>B0BFCYLD65</td>\n",
       "      <td>Panda Piggy Bank,Panda Bank Stealing Coin,Pand...</td>\n",
       "      <td>Amazon Home</td>\n",
       "      <td>11-01-2022</td>\n",
       "    </tr>\n",
       "    <tr>\n",
       "      <th>763768</th>\n",
       "      <td>5.0</td>\n",
       "      <td>I was surprised as to how many noises and post...</td>\n",
       "      <td>B09H1LFJDB</td>\n",
       "      <td>2022-11-01 14:19:02.804</td>\n",
       "      <td>B09H1LFJDB</td>\n",
       "      <td>STAR WARS Hasbro L0-LA59 (Lola) Animatronic Ed...</td>\n",
       "      <td>Toys &amp; Games</td>\n",
       "      <td>11-01-2022</td>\n",
       "    </tr>\n",
       "    <tr>\n",
       "      <th>763755</th>\n",
       "      <td>5.0</td>\n",
       "      <td>For $40 this is a pretty darn good deal despit...</td>\n",
       "      <td>B09H1LFJDB</td>\n",
       "      <td>2022-11-01 21:00:50.978</td>\n",
       "      <td>B09H1LFJDB</td>\n",
       "      <td>STAR WARS Hasbro L0-LA59 (Lola) Animatronic Ed...</td>\n",
       "      <td>Toys &amp; Games</td>\n",
       "      <td>11-01-2022</td>\n",
       "    </tr>\n",
       "    <tr>\n",
       "      <th>1579493</th>\n",
       "      <td>5.0</td>\n",
       "      <td>I sent these to school as prizes for the Hallo...</td>\n",
       "      <td>B093BXD9ZN</td>\n",
       "      <td>2022-11-01 13:47:03.803</td>\n",
       "      <td>B093BXD9ZN</td>\n",
       "      <td>Halloween Crafts Kit for Kids, 48 Set Hallowee...</td>\n",
       "      <td>Toys &amp; Games</td>\n",
       "      <td>11-01-2022</td>\n",
       "    </tr>\n",
       "  </tbody>\n",
       "</table>\n",
       "<p>463892 rows × 8 columns</p>\n",
       "</div>"
      ],
      "text/plain": [
       "         rating                                               text  \\\n",
       "1367229     3.0  I gifted this to my daughter for Christmas and...   \n",
       "1793795     5.0                                Excelente para bebé   \n",
       "570042      4.0                                    Fun family game   \n",
       "289033      5.0  The grandson loves it. Only complaint is the b...   \n",
       "570058      2.0  The game concept is just fine and very easy to...   \n",
       "...         ...                                                ...   \n",
       "1991307     3.0  It did come as pictured, however, does not com...   \n",
       "382646      5.0                                       Kid friendly   \n",
       "763768      5.0  I was surprised as to how many noises and post...   \n",
       "763755      5.0  For $40 this is a pretty darn good deal despit...   \n",
       "1579493     5.0  I sent these to school as prizes for the Hallo...   \n",
       "\n",
       "               asin                timestamp parent_asin  \\\n",
       "1367229  B095NZB1XR  2022-12-31 22:42:37.129  B094X69L9P   \n",
       "1793795  B0832PCCVP  2022-12-31 16:03:58.718  B0832PCCVP   \n",
       "570042   B07BHJWDGX  2022-12-31 19:04:44.067  B0C5F8QK6K   \n",
       "289033   B09BGQLD6L  2022-12-31 18:37:13.536  B0BY6QTVB5   \n",
       "570058   B07F813YYY  2022-12-31 02:41:22.709  B0C5F8QK6K   \n",
       "...             ...                      ...         ...   \n",
       "1991307  B09YH2L7L3  2022-11-01 15:17:00.327  B09YGT5QK6   \n",
       "382646   B082HMPKVK  2022-11-01 09:37:30.324  B0BFCYLD65   \n",
       "763768   B09H1LFJDB  2022-11-01 14:19:02.804  B09H1LFJDB   \n",
       "763755   B09H1LFJDB  2022-11-01 21:00:50.978  B09H1LFJDB   \n",
       "1579493  B093BXD9ZN  2022-11-01 13:47:03.803  B093BXD9ZN   \n",
       "\n",
       "                                                     title main_category  \\\n",
       "1367229  Anime Plush Doll Figures Gojo Satoru / Yuji It...  Toys & Games   \n",
       "1793795  Jasonwell Baby Swimming Float Inflatable Baby ...  Toys & Games   \n",
       "570042   Harry Potter Potions Challenge Board Game for ...  Toys & Games   \n",
       "289033   W&O Dragon Hero Kids Tent with Roar Button - E...  Toys & Games   \n",
       "570058   Harry Potter Potions Challenge Board Game for ...  Toys & Games   \n",
       "...                                                    ...           ...   \n",
       "1991307  MATTTIME Cow 1st Birthday Decoration Burlap Ba...  Toys & Games   \n",
       "382646   Panda Piggy Bank,Panda Bank Stealing Coin,Pand...   Amazon Home   \n",
       "763768   STAR WARS Hasbro L0-LA59 (Lola) Animatronic Ed...  Toys & Games   \n",
       "763755   STAR WARS Hasbro L0-LA59 (Lola) Animatronic Ed...  Toys & Games   \n",
       "1579493  Halloween Crafts Kit for Kids, 48 Set Hallowee...  Toys & Games   \n",
       "\n",
       "               date  \n",
       "1367229  12-31-2022  \n",
       "1793795  12-31-2022  \n",
       "570042   12-31-2022  \n",
       "289033   12-31-2022  \n",
       "570058   12-31-2022  \n",
       "...             ...  \n",
       "1991307  11-01-2022  \n",
       "382646   11-01-2022  \n",
       "763768   11-01-2022  \n",
       "763755   11-01-2022  \n",
       "1579493  11-01-2022  \n",
       "\n",
       "[463892 rows x 8 columns]"
      ]
     },
     "execution_count": 14,
     "metadata": {},
     "output_type": "execute_result"
    }
   ],
   "source": [
    "sorted_df_2022"
   ]
  },
  {
   "cell_type": "markdown",
   "id": "fc88f8f2-59f2-4026-a3ed-3736b74dc195",
   "metadata": {},
   "source": [
    "### Step 8 For loop to run sentiment analysis and save in a new res dictionary"
   ]
  },
  {
   "cell_type": "code",
   "execution_count": 16,
   "id": "ec2a4343-e8eb-427c-8457-3d226bfe8cce",
   "metadata": {},
   "outputs": [
    {
     "data": {
      "application/vnd.jupyter.widget-view+json": {
       "model_id": "004217ae86164007a269bf543c73591f",
       "version_major": 2,
       "version_minor": 0
      },
      "text/plain": [
       "  0%|          | 0/463892 [00:00<?, ?it/s]"
      ]
     },
     "metadata": {},
     "output_type": "display_data"
    }
   ],
   "source": [
    "### Run the polarity score on the entire dataset\n",
    "\n",
    "sorted_df_2022['text'] = sorted_df_2022['text'].astype(str)\n",
    "\n",
    "res = {}\n",
    "for i, row in tqdm(sorted_df_2022.iterrows(), total=len(sorted_df_2022)):\n",
    "    text = row['text']\n",
    "    #print(text)\n",
    "    res[i] = sentiment_analyizer_object.polarity_scores(text)"
   ]
  },
  {
   "cell_type": "markdown",
   "id": "ae61966f-aede-462a-9958-8fbeccd7391e",
   "metadata": {},
   "source": [
    "### Step 9 Save dictionary into a dataframe and print it out"
   ]
  },
  {
   "cell_type": "code",
   "execution_count": 18,
   "id": "6974f7c1-880b-4c6f-9782-968cd9b9b408",
   "metadata": {},
   "outputs": [
    {
     "data": {
      "text/html": [
       "<div>\n",
       "<style scoped>\n",
       "    .dataframe tbody tr th:only-of-type {\n",
       "        vertical-align: middle;\n",
       "    }\n",
       "\n",
       "    .dataframe tbody tr th {\n",
       "        vertical-align: top;\n",
       "    }\n",
       "\n",
       "    .dataframe thead th {\n",
       "        text-align: right;\n",
       "    }\n",
       "</style>\n",
       "<table border=\"1\" class=\"dataframe\">\n",
       "  <thead>\n",
       "    <tr style=\"text-align: right;\">\n",
       "      <th></th>\n",
       "      <th>neg</th>\n",
       "      <th>neu</th>\n",
       "      <th>pos</th>\n",
       "      <th>compound</th>\n",
       "    </tr>\n",
       "  </thead>\n",
       "  <tbody>\n",
       "    <tr>\n",
       "      <th>1367229</th>\n",
       "      <td>0.084</td>\n",
       "      <td>0.916</td>\n",
       "      <td>0.000</td>\n",
       "      <td>-0.5255</td>\n",
       "    </tr>\n",
       "    <tr>\n",
       "      <th>1793795</th>\n",
       "      <td>0.000</td>\n",
       "      <td>1.000</td>\n",
       "      <td>0.000</td>\n",
       "      <td>0.0000</td>\n",
       "    </tr>\n",
       "    <tr>\n",
       "      <th>570042</th>\n",
       "      <td>0.000</td>\n",
       "      <td>0.377</td>\n",
       "      <td>0.623</td>\n",
       "      <td>0.5106</td>\n",
       "    </tr>\n",
       "    <tr>\n",
       "      <th>289033</th>\n",
       "      <td>0.114</td>\n",
       "      <td>0.570</td>\n",
       "      <td>0.316</td>\n",
       "      <td>0.5994</td>\n",
       "    </tr>\n",
       "    <tr>\n",
       "      <th>570058</th>\n",
       "      <td>0.048</td>\n",
       "      <td>0.832</td>\n",
       "      <td>0.119</td>\n",
       "      <td>0.8819</td>\n",
       "    </tr>\n",
       "    <tr>\n",
       "      <th>...</th>\n",
       "      <td>...</td>\n",
       "      <td>...</td>\n",
       "      <td>...</td>\n",
       "      <td>...</td>\n",
       "    </tr>\n",
       "    <tr>\n",
       "      <th>1991307</th>\n",
       "      <td>0.000</td>\n",
       "      <td>1.000</td>\n",
       "      <td>0.000</td>\n",
       "      <td>0.0000</td>\n",
       "    </tr>\n",
       "    <tr>\n",
       "      <th>382646</th>\n",
       "      <td>0.000</td>\n",
       "      <td>0.238</td>\n",
       "      <td>0.762</td>\n",
       "      <td>0.4939</td>\n",
       "    </tr>\n",
       "    <tr>\n",
       "      <th>763768</th>\n",
       "      <td>0.000</td>\n",
       "      <td>0.597</td>\n",
       "      <td>0.403</td>\n",
       "      <td>0.9153</td>\n",
       "    </tr>\n",
       "    <tr>\n",
       "      <th>763755</th>\n",
       "      <td>0.123</td>\n",
       "      <td>0.775</td>\n",
       "      <td>0.103</td>\n",
       "      <td>-0.2928</td>\n",
       "    </tr>\n",
       "    <tr>\n",
       "      <th>1579493</th>\n",
       "      <td>0.000</td>\n",
       "      <td>0.746</td>\n",
       "      <td>0.254</td>\n",
       "      <td>0.9781</td>\n",
       "    </tr>\n",
       "  </tbody>\n",
       "</table>\n",
       "<p>463892 rows × 4 columns</p>\n",
       "</div>"
      ],
      "text/plain": [
       "           neg    neu    pos  compound\n",
       "1367229  0.084  0.916  0.000   -0.5255\n",
       "1793795  0.000  1.000  0.000    0.0000\n",
       "570042   0.000  0.377  0.623    0.5106\n",
       "289033   0.114  0.570  0.316    0.5994\n",
       "570058   0.048  0.832  0.119    0.8819\n",
       "...        ...    ...    ...       ...\n",
       "1991307  0.000  1.000  0.000    0.0000\n",
       "382646   0.000  0.238  0.762    0.4939\n",
       "763768   0.000  0.597  0.403    0.9153\n",
       "763755   0.123  0.775  0.103   -0.2928\n",
       "1579493  0.000  0.746  0.254    0.9781\n",
       "\n",
       "[463892 rows x 4 columns]"
      ]
     },
     "execution_count": 18,
     "metadata": {},
     "output_type": "execute_result"
    }
   ],
   "source": [
    "vaders_christmas_2022 = pd.DataFrame(res).T\n",
    "vaders_christmas_2022"
   ]
  },
  {
   "cell_type": "markdown",
   "id": "508eebfe-1eb3-40e9-ab90-7b50c443b83f",
   "metadata": {},
   "source": [
    "### Step 10 Merge the vader dataset with Neg/Neu/Pos compound fields with the original 2022 sorted data set"
   ]
  },
  {
   "cell_type": "code",
   "execution_count": 20,
   "id": "fa6b3eef-becc-4158-bfaa-6cad73fcd2d5",
   "metadata": {},
   "outputs": [],
   "source": [
    "vaders_christmas_2022 = pd.DataFrame(res).T\n",
    "merged_christmas_2022 = pd.merge(vaders_christmas_2022, sorted_df_2022, left_index=True, right_index=True)"
   ]
  },
  {
   "cell_type": "code",
   "execution_count": 21,
   "id": "2b463168-5ea8-476d-97f7-39eb71f4a4a4",
   "metadata": {},
   "outputs": [
    {
     "data": {
      "text/html": [
       "<div>\n",
       "<style scoped>\n",
       "    .dataframe tbody tr th:only-of-type {\n",
       "        vertical-align: middle;\n",
       "    }\n",
       "\n",
       "    .dataframe tbody tr th {\n",
       "        vertical-align: top;\n",
       "    }\n",
       "\n",
       "    .dataframe thead th {\n",
       "        text-align: right;\n",
       "    }\n",
       "</style>\n",
       "<table border=\"1\" class=\"dataframe\">\n",
       "  <thead>\n",
       "    <tr style=\"text-align: right;\">\n",
       "      <th></th>\n",
       "      <th>neg</th>\n",
       "      <th>neu</th>\n",
       "      <th>pos</th>\n",
       "      <th>compound</th>\n",
       "      <th>rating</th>\n",
       "      <th>text</th>\n",
       "      <th>asin</th>\n",
       "      <th>timestamp</th>\n",
       "      <th>parent_asin</th>\n",
       "      <th>title</th>\n",
       "      <th>main_category</th>\n",
       "      <th>date</th>\n",
       "    </tr>\n",
       "  </thead>\n",
       "  <tbody>\n",
       "    <tr>\n",
       "      <th>1367229</th>\n",
       "      <td>0.084</td>\n",
       "      <td>0.916</td>\n",
       "      <td>0.000</td>\n",
       "      <td>-0.5255</td>\n",
       "      <td>3.0</td>\n",
       "      <td>I gifted this to my daughter for Christmas and...</td>\n",
       "      <td>B095NZB1XR</td>\n",
       "      <td>2022-12-31 22:42:37.129</td>\n",
       "      <td>B094X69L9P</td>\n",
       "      <td>Anime Plush Doll Figures Gojo Satoru / Yuji It...</td>\n",
       "      <td>Toys &amp; Games</td>\n",
       "      <td>12-31-2022</td>\n",
       "    </tr>\n",
       "    <tr>\n",
       "      <th>1793795</th>\n",
       "      <td>0.000</td>\n",
       "      <td>1.000</td>\n",
       "      <td>0.000</td>\n",
       "      <td>0.0000</td>\n",
       "      <td>5.0</td>\n",
       "      <td>Excelente para bebé</td>\n",
       "      <td>B0832PCCVP</td>\n",
       "      <td>2022-12-31 16:03:58.718</td>\n",
       "      <td>B0832PCCVP</td>\n",
       "      <td>Jasonwell Baby Swimming Float Inflatable Baby ...</td>\n",
       "      <td>Toys &amp; Games</td>\n",
       "      <td>12-31-2022</td>\n",
       "    </tr>\n",
       "    <tr>\n",
       "      <th>570042</th>\n",
       "      <td>0.000</td>\n",
       "      <td>0.377</td>\n",
       "      <td>0.623</td>\n",
       "      <td>0.5106</td>\n",
       "      <td>4.0</td>\n",
       "      <td>Fun family game</td>\n",
       "      <td>B07BHJWDGX</td>\n",
       "      <td>2022-12-31 19:04:44.067</td>\n",
       "      <td>B0C5F8QK6K</td>\n",
       "      <td>Harry Potter Potions Challenge Board Game for ...</td>\n",
       "      <td>Toys &amp; Games</td>\n",
       "      <td>12-31-2022</td>\n",
       "    </tr>\n",
       "    <tr>\n",
       "      <th>289033</th>\n",
       "      <td>0.114</td>\n",
       "      <td>0.570</td>\n",
       "      <td>0.316</td>\n",
       "      <td>0.5994</td>\n",
       "      <td>5.0</td>\n",
       "      <td>The grandson loves it. Only complaint is the b...</td>\n",
       "      <td>B09BGQLD6L</td>\n",
       "      <td>2022-12-31 18:37:13.536</td>\n",
       "      <td>B0BY6QTVB5</td>\n",
       "      <td>W&amp;O Dragon Hero Kids Tent with Roar Button - E...</td>\n",
       "      <td>Toys &amp; Games</td>\n",
       "      <td>12-31-2022</td>\n",
       "    </tr>\n",
       "    <tr>\n",
       "      <th>570058</th>\n",
       "      <td>0.048</td>\n",
       "      <td>0.832</td>\n",
       "      <td>0.119</td>\n",
       "      <td>0.8819</td>\n",
       "      <td>2.0</td>\n",
       "      <td>The game concept is just fine and very easy to...</td>\n",
       "      <td>B07F813YYY</td>\n",
       "      <td>2022-12-31 02:41:22.709</td>\n",
       "      <td>B0C5F8QK6K</td>\n",
       "      <td>Harry Potter Potions Challenge Board Game for ...</td>\n",
       "      <td>Toys &amp; Games</td>\n",
       "      <td>12-31-2022</td>\n",
       "    </tr>\n",
       "    <tr>\n",
       "      <th>...</th>\n",
       "      <td>...</td>\n",
       "      <td>...</td>\n",
       "      <td>...</td>\n",
       "      <td>...</td>\n",
       "      <td>...</td>\n",
       "      <td>...</td>\n",
       "      <td>...</td>\n",
       "      <td>...</td>\n",
       "      <td>...</td>\n",
       "      <td>...</td>\n",
       "      <td>...</td>\n",
       "      <td>...</td>\n",
       "    </tr>\n",
       "    <tr>\n",
       "      <th>1991307</th>\n",
       "      <td>0.000</td>\n",
       "      <td>1.000</td>\n",
       "      <td>0.000</td>\n",
       "      <td>0.0000</td>\n",
       "      <td>3.0</td>\n",
       "      <td>It did come as pictured, however, does not com...</td>\n",
       "      <td>B09YH2L7L3</td>\n",
       "      <td>2022-11-01 15:17:00.327</td>\n",
       "      <td>B09YGT5QK6</td>\n",
       "      <td>MATTTIME Cow 1st Birthday Decoration Burlap Ba...</td>\n",
       "      <td>Toys &amp; Games</td>\n",
       "      <td>11-01-2022</td>\n",
       "    </tr>\n",
       "    <tr>\n",
       "      <th>382646</th>\n",
       "      <td>0.000</td>\n",
       "      <td>0.238</td>\n",
       "      <td>0.762</td>\n",
       "      <td>0.4939</td>\n",
       "      <td>5.0</td>\n",
       "      <td>Kid friendly</td>\n",
       "      <td>B082HMPKVK</td>\n",
       "      <td>2022-11-01 09:37:30.324</td>\n",
       "      <td>B0BFCYLD65</td>\n",
       "      <td>Panda Piggy Bank,Panda Bank Stealing Coin,Pand...</td>\n",
       "      <td>Amazon Home</td>\n",
       "      <td>11-01-2022</td>\n",
       "    </tr>\n",
       "    <tr>\n",
       "      <th>763768</th>\n",
       "      <td>0.000</td>\n",
       "      <td>0.597</td>\n",
       "      <td>0.403</td>\n",
       "      <td>0.9153</td>\n",
       "      <td>5.0</td>\n",
       "      <td>I was surprised as to how many noises and post...</td>\n",
       "      <td>B09H1LFJDB</td>\n",
       "      <td>2022-11-01 14:19:02.804</td>\n",
       "      <td>B09H1LFJDB</td>\n",
       "      <td>STAR WARS Hasbro L0-LA59 (Lola) Animatronic Ed...</td>\n",
       "      <td>Toys &amp; Games</td>\n",
       "      <td>11-01-2022</td>\n",
       "    </tr>\n",
       "    <tr>\n",
       "      <th>763755</th>\n",
       "      <td>0.123</td>\n",
       "      <td>0.775</td>\n",
       "      <td>0.103</td>\n",
       "      <td>-0.2928</td>\n",
       "      <td>5.0</td>\n",
       "      <td>For $40 this is a pretty darn good deal despit...</td>\n",
       "      <td>B09H1LFJDB</td>\n",
       "      <td>2022-11-01 21:00:50.978</td>\n",
       "      <td>B09H1LFJDB</td>\n",
       "      <td>STAR WARS Hasbro L0-LA59 (Lola) Animatronic Ed...</td>\n",
       "      <td>Toys &amp; Games</td>\n",
       "      <td>11-01-2022</td>\n",
       "    </tr>\n",
       "    <tr>\n",
       "      <th>1579493</th>\n",
       "      <td>0.000</td>\n",
       "      <td>0.746</td>\n",
       "      <td>0.254</td>\n",
       "      <td>0.9781</td>\n",
       "      <td>5.0</td>\n",
       "      <td>I sent these to school as prizes for the Hallo...</td>\n",
       "      <td>B093BXD9ZN</td>\n",
       "      <td>2022-11-01 13:47:03.803</td>\n",
       "      <td>B093BXD9ZN</td>\n",
       "      <td>Halloween Crafts Kit for Kids, 48 Set Hallowee...</td>\n",
       "      <td>Toys &amp; Games</td>\n",
       "      <td>11-01-2022</td>\n",
       "    </tr>\n",
       "  </tbody>\n",
       "</table>\n",
       "<p>463892 rows × 12 columns</p>\n",
       "</div>"
      ],
      "text/plain": [
       "           neg    neu    pos  compound  rating  \\\n",
       "1367229  0.084  0.916  0.000   -0.5255     3.0   \n",
       "1793795  0.000  1.000  0.000    0.0000     5.0   \n",
       "570042   0.000  0.377  0.623    0.5106     4.0   \n",
       "289033   0.114  0.570  0.316    0.5994     5.0   \n",
       "570058   0.048  0.832  0.119    0.8819     2.0   \n",
       "...        ...    ...    ...       ...     ...   \n",
       "1991307  0.000  1.000  0.000    0.0000     3.0   \n",
       "382646   0.000  0.238  0.762    0.4939     5.0   \n",
       "763768   0.000  0.597  0.403    0.9153     5.0   \n",
       "763755   0.123  0.775  0.103   -0.2928     5.0   \n",
       "1579493  0.000  0.746  0.254    0.9781     5.0   \n",
       "\n",
       "                                                      text        asin  \\\n",
       "1367229  I gifted this to my daughter for Christmas and...  B095NZB1XR   \n",
       "1793795                                Excelente para bebé  B0832PCCVP   \n",
       "570042                                     Fun family game  B07BHJWDGX   \n",
       "289033   The grandson loves it. Only complaint is the b...  B09BGQLD6L   \n",
       "570058   The game concept is just fine and very easy to...  B07F813YYY   \n",
       "...                                                    ...         ...   \n",
       "1991307  It did come as pictured, however, does not com...  B09YH2L7L3   \n",
       "382646                                        Kid friendly  B082HMPKVK   \n",
       "763768   I was surprised as to how many noises and post...  B09H1LFJDB   \n",
       "763755   For $40 this is a pretty darn good deal despit...  B09H1LFJDB   \n",
       "1579493  I sent these to school as prizes for the Hallo...  B093BXD9ZN   \n",
       "\n",
       "                       timestamp parent_asin  \\\n",
       "1367229  2022-12-31 22:42:37.129  B094X69L9P   \n",
       "1793795  2022-12-31 16:03:58.718  B0832PCCVP   \n",
       "570042   2022-12-31 19:04:44.067  B0C5F8QK6K   \n",
       "289033   2022-12-31 18:37:13.536  B0BY6QTVB5   \n",
       "570058   2022-12-31 02:41:22.709  B0C5F8QK6K   \n",
       "...                          ...         ...   \n",
       "1991307  2022-11-01 15:17:00.327  B09YGT5QK6   \n",
       "382646   2022-11-01 09:37:30.324  B0BFCYLD65   \n",
       "763768   2022-11-01 14:19:02.804  B09H1LFJDB   \n",
       "763755   2022-11-01 21:00:50.978  B09H1LFJDB   \n",
       "1579493  2022-11-01 13:47:03.803  B093BXD9ZN   \n",
       "\n",
       "                                                     title main_category  \\\n",
       "1367229  Anime Plush Doll Figures Gojo Satoru / Yuji It...  Toys & Games   \n",
       "1793795  Jasonwell Baby Swimming Float Inflatable Baby ...  Toys & Games   \n",
       "570042   Harry Potter Potions Challenge Board Game for ...  Toys & Games   \n",
       "289033   W&O Dragon Hero Kids Tent with Roar Button - E...  Toys & Games   \n",
       "570058   Harry Potter Potions Challenge Board Game for ...  Toys & Games   \n",
       "...                                                    ...           ...   \n",
       "1991307  MATTTIME Cow 1st Birthday Decoration Burlap Ba...  Toys & Games   \n",
       "382646   Panda Piggy Bank,Panda Bank Stealing Coin,Pand...   Amazon Home   \n",
       "763768   STAR WARS Hasbro L0-LA59 (Lola) Animatronic Ed...  Toys & Games   \n",
       "763755   STAR WARS Hasbro L0-LA59 (Lola) Animatronic Ed...  Toys & Games   \n",
       "1579493  Halloween Crafts Kit for Kids, 48 Set Hallowee...  Toys & Games   \n",
       "\n",
       "               date  \n",
       "1367229  12-31-2022  \n",
       "1793795  12-31-2022  \n",
       "570042   12-31-2022  \n",
       "289033   12-31-2022  \n",
       "570058   12-31-2022  \n",
       "...             ...  \n",
       "1991307  11-01-2022  \n",
       "382646   11-01-2022  \n",
       "763768   11-01-2022  \n",
       "763755   11-01-2022  \n",
       "1579493  11-01-2022  \n",
       "\n",
       "[463892 rows x 12 columns]"
      ]
     },
     "execution_count": 21,
     "metadata": {},
     "output_type": "execute_result"
    }
   ],
   "source": [
    "merged_christmas_2022"
   ]
  },
  {
   "cell_type": "markdown",
   "id": "e3128a5e-e11c-40f3-b128-dc2411915b0b",
   "metadata": {},
   "source": [
    "### Step 11 Plot vader compound score vs the rating"
   ]
  },
  {
   "cell_type": "code",
   "execution_count": 23,
   "id": "ecef3ea2-ac3e-47b2-a26d-604383f9de03",
   "metadata": {},
   "outputs": [
    {
     "data": {
      "image/png": "[encoded data removed]",
      "text/plain": [
       "<Figure size 640x480 with 1 Axes>"
      ]
     },
     "metadata": {},
     "output_type": "display_data"
    }
   ],
   "source": [
    "import seaborn as sns\n",
    "import matplotlib.pyplot as plt\n",
    "ax = sns.barplot(data=merged_christmas_2022, x='rating', y='compound')\n",
    "ax.set_title('Compound score by Amazon star Review')\n",
    "plt.show()"
   ]
  },
  {
   "cell_type": "code",
   "execution_count": 24,
   "id": "af187fe4-e1b3-4d3d-b53c-242cc4999ad0",
   "metadata": {},
   "outputs": [],
   "source": [
    "### Step 12 Compare vader score with positive neutral or negative scores\n"
   ]
  },
  {
   "cell_type": "code",
   "execution_count": 25,
   "id": "9569887e-1345-4dd0-a04a-5882fef6edce",
   "metadata": {},
   "outputs": [
    {
     "data": {
      "image/png": "[encoded data removed]",
      "text/plain": [
       "<Figure size 1500x500 with 3 Axes>"
      ]
     },
     "metadata": {},
     "output_type": "display_data"
    }
   ],
   "source": [
    "fig, axs = plt.subplots(1, 3, figsize=(15, 5))\n",
    "sns.barplot(data=merged_christmas_2022, x='rating', y='pos', ax =axs[0])\n",
    "sns.barplot(data=merged_christmas_2022, x='rating', y='neu', ax =axs[1])\n",
    "sns.barplot(data=merged_christmas_2022, x='rating', y='neg', ax =axs[2])\n",
    "axs[0].set_title('Positive')\n",
    "axs[1].set_title('Neutral')\n",
    "axs[2].set_title('Negative')\n",
    "plt.tight_layout()\n",
    "plt.show()\n",
    "\n"
   ]
  },
  {
   "cell_type": "code",
   "execution_count": 26,
   "id": "867c0523-9456-4c96-a880-3a428ee345bc",
   "metadata": {},
   "outputs": [
    {
     "data": {
      "image/png": "[encoded data removed]",
      "text/plain": [
       "<Figure size 1500x500 with 3 Axes>"
      ]
     },
     "metadata": {},
     "output_type": "display_data"
    }
   ],
   "source": [
    "fig, axs = plt.subplots(1, 3, figsize=(15, 5))\n",
    "sns.barplot(data=merged_christmas_2022, x='rating', y='pos', ax =axs[0])\n",
    "sns.barplot(data=merged_christmas_2022, x='rating', y='neu', ax =axs[1])\n",
    "sns.barplot(data=merged_christmas_2022, x='rating', y='neg', ax =axs[2])\n",
    "axs[0].set_title('Positive')\n",
    "axs[1].set_title('Neutral')\n",
    "axs[2].set_title('Negative')\n",
    "plt.tight_layout()\n",
    "plt.show()\n",
    "\n"
   ]
  },
  {
   "cell_type": "code",
   "execution_count": null,
   "id": "fb5cf55e-eaae-4170-8f0f-73ac4f8e862c",
   "metadata": {},
   "outputs": [],
   "source": []
  }
 ],
 "metadata": {
  "kernelspec": {
   "display_name": "Python 3 (ipykernel)",
   "language": "python",
   "name": "python3"
  },
  "language_info": {
   "codemirror_mode": {
    "name": "ipython",
    "version": 3
   },
   "file_extension": ".py",
   "mimetype": "text/x-python",
   "name": "python",
   "nbconvert_exporter": "python",
   "pygments_lexer": "ipython3",
   "version": "3.11.7"
  }
 },
 "nbformat": 4,
 "nbformat_minor": 5
}
